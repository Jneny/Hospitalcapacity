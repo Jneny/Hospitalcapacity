{
 "cells": [
  {
   "cell_type": "code",
   "execution_count": 1,
   "metadata": {},
   "outputs": [],
   "source": [
    "import pandas as pd\n",
    "from pandas import read_csv\n",
    "#from patsy import dmatrices\n",
    "import numpy as np\n",
    "import matplotlib.pyplot as plt\n",
    "from sklearn.model_selection import train_test_split\n",
    "import statsmodels.discrete.discrete_model as sm\n",
    "from pylab import rcParams\n",
    "rcParams['figure.figsize'] = 20, 5"
   ]
  },
  {
   "cell_type": "code",
   "execution_count": 59,
   "metadata": {},
   "outputs": [
    {
     "name": "stdout",
     "output_type": "stream",
     "text": [
      "<class 'pandas.core.frame.DataFrame'>\n",
      "<class 'pandas.core.frame.DataFrame'>\n",
      "DatetimeIndex: 655 entries, 2020-05-01 to 2022-02-14\n",
      "Data columns (total 10 columns):\n",
      "adult_icu_crci_patients        655 non-null int64\n",
      "adult_icu_non_crci_patients    655 non-null int64\n",
      "available_adult_icu_beds       655 non-null int64\n",
      "total_adult_icu_patients       655 non-null int64\n",
      "total_adult_icu_beds           655 non-null int64\n",
      "ped_icu_crci_patients          655 non-null int64\n",
      "ped_icu_non_crci_patients      655 non-null int64\n",
      "available_ped_icu_beds         655 non-null int64\n",
      "total_ped_icu_patients         655 non-null int64\n",
      "total_ped_icu_beds             655 non-null int64\n",
      "dtypes: int64(10)\n",
      "memory usage: 56.3 KB\n"
     ]
    },
    {
     "data": {
      "text/html": [
       "<div>\n",
       "<style scoped>\n",
       "    .dataframe tbody tr th:only-of-type {\n",
       "        vertical-align: middle;\n",
       "    }\n",
       "\n",
       "    .dataframe tbody tr th {\n",
       "        vertical-align: top;\n",
       "    }\n",
       "\n",
       "    .dataframe thead th {\n",
       "        text-align: right;\n",
       "    }\n",
       "</style>\n",
       "<table border=\"1\" class=\"dataframe\">\n",
       "  <thead>\n",
       "    <tr style=\"text-align: right;\">\n",
       "      <th></th>\n",
       "      <th>adult_icu_crci_patients</th>\n",
       "      <th>adult_icu_non_crci_patients</th>\n",
       "      <th>available_adult_icu_beds</th>\n",
       "      <th>total_adult_icu_patients</th>\n",
       "      <th>total_adult_icu_beds</th>\n",
       "      <th>ped_icu_crci_patients</th>\n",
       "      <th>ped_icu_non_crci_patients</th>\n",
       "      <th>available_ped_icu_beds</th>\n",
       "      <th>total_ped_icu_patients</th>\n",
       "      <th>total_ped_icu_beds</th>\n",
       "    </tr>\n",
       "    <tr>\n",
       "      <th>date</th>\n",
       "      <th></th>\n",
       "      <th></th>\n",
       "      <th></th>\n",
       "      <th></th>\n",
       "      <th></th>\n",
       "      <th></th>\n",
       "      <th></th>\n",
       "      <th></th>\n",
       "      <th></th>\n",
       "      <th></th>\n",
       "    </tr>\n",
       "  </thead>\n",
       "  <tbody>\n",
       "    <tr>\n",
       "      <td>2020-05-01</td>\n",
       "      <td>244</td>\n",
       "      <td>1154</td>\n",
       "      <td>614</td>\n",
       "      <td>1398</td>\n",
       "      <td>2012</td>\n",
       "      <td>0</td>\n",
       "      <td>51</td>\n",
       "      <td>38</td>\n",
       "      <td>51</td>\n",
       "      <td>89</td>\n",
       "    </tr>\n",
       "    <tr>\n",
       "      <td>2020-05-02</td>\n",
       "      <td>236</td>\n",
       "      <td>1210</td>\n",
       "      <td>566</td>\n",
       "      <td>1446</td>\n",
       "      <td>2012</td>\n",
       "      <td>0</td>\n",
       "      <td>56</td>\n",
       "      <td>33</td>\n",
       "      <td>56</td>\n",
       "      <td>89</td>\n",
       "    </tr>\n",
       "    <tr>\n",
       "      <td>2020-05-03</td>\n",
       "      <td>246</td>\n",
       "      <td>1211</td>\n",
       "      <td>555</td>\n",
       "      <td>1457</td>\n",
       "      <td>2012</td>\n",
       "      <td>0</td>\n",
       "      <td>54</td>\n",
       "      <td>35</td>\n",
       "      <td>54</td>\n",
       "      <td>89</td>\n",
       "    </tr>\n",
       "    <tr>\n",
       "      <td>2020-05-04</td>\n",
       "      <td>243</td>\n",
       "      <td>1197</td>\n",
       "      <td>572</td>\n",
       "      <td>1440</td>\n",
       "      <td>2012</td>\n",
       "      <td>0</td>\n",
       "      <td>56</td>\n",
       "      <td>33</td>\n",
       "      <td>56</td>\n",
       "      <td>89</td>\n",
       "    </tr>\n",
       "    <tr>\n",
       "      <td>2020-05-05</td>\n",
       "      <td>243</td>\n",
       "      <td>1252</td>\n",
       "      <td>517</td>\n",
       "      <td>1495</td>\n",
       "      <td>2012</td>\n",
       "      <td>0</td>\n",
       "      <td>59</td>\n",
       "      <td>30</td>\n",
       "      <td>59</td>\n",
       "      <td>89</td>\n",
       "    </tr>\n",
       "  </tbody>\n",
       "</table>\n",
       "</div>"
      ],
      "text/plain": [
       "            adult_icu_crci_patients  adult_icu_non_crci_patients  \\\n",
       "date                                                               \n",
       "2020-05-01                      244                         1154   \n",
       "2020-05-02                      236                         1210   \n",
       "2020-05-03                      246                         1211   \n",
       "2020-05-04                      243                         1197   \n",
       "2020-05-05                      243                         1252   \n",
       "\n",
       "            available_adult_icu_beds  total_adult_icu_patients  \\\n",
       "date                                                             \n",
       "2020-05-01                       614                      1398   \n",
       "2020-05-02                       566                      1446   \n",
       "2020-05-03                       555                      1457   \n",
       "2020-05-04                       572                      1440   \n",
       "2020-05-05                       517                      1495   \n",
       "\n",
       "            total_adult_icu_beds  ped_icu_crci_patients  \\\n",
       "date                                                      \n",
       "2020-05-01                  2012                      0   \n",
       "2020-05-02                  2012                      0   \n",
       "2020-05-03                  2012                      0   \n",
       "2020-05-04                  2012                      0   \n",
       "2020-05-05                  2012                      0   \n",
       "\n",
       "            ped_icu_non_crci_patients  available_ped_icu_beds  \\\n",
       "date                                                            \n",
       "2020-05-01                         51                      38   \n",
       "2020-05-02                         56                      33   \n",
       "2020-05-03                         54                      35   \n",
       "2020-05-04                         56                      33   \n",
       "2020-05-05                         59                      30   \n",
       "\n",
       "            total_ped_icu_patients  total_ped_icu_beds  \n",
       "date                                                    \n",
       "2020-05-01                      51                  89  \n",
       "2020-05-02                      56                  89  \n",
       "2020-05-03                      54                  89  \n",
       "2020-05-04                      56                  89  \n",
       "2020-05-05                      59                  89  "
      ]
     },
     "execution_count": 59,
     "metadata": {},
     "output_type": "execute_result"
    }
   ],
   "source": [
    "#filepath =\"C:\\Users\\Jneny\\Desktop\\820\\datasets\\icu_beds.csv\"\n",
    "#dataset = pd.read_csv(filepath, header = 0, sep=\",\" )\n",
    "\n",
    "data = read_csv(r\"C:\\Users\\Jneny\\Desktop\\820\\datasets\\icu_beds.csv\", header=0, parse_dates=[0], index_col=0, squeeze=True)\n",
    "print(type(data))\n",
    "data.info()\n",
    "data.head()"
   ]
  },
  {
   "cell_type": "code",
   "execution_count": 3,
   "metadata": {},
   "outputs": [
    {
     "name": "stdout",
     "output_type": "stream",
     "text": [
      "0\n",
      "0\n"
     ]
    }
   ],
   "source": [
    "#check for times when there a provincial shortage of occupancy space when no beds were aviailable\n",
    "icumax = (data['available_adult_icu_beds'] == 0).sum()\n",
    "print(icumax)\n",
    "picumax = (data['available_ped_icu_beds'] == 0).sum()\n",
    "print(picumax)"
   ]
  },
  {
   "cell_type": "code",
   "execution_count": 60,
   "metadata": {},
   "outputs": [
    {
     "data": {
      "text/html": [
       "<div>\n",
       "<style scoped>\n",
       "    .dataframe tbody tr th:only-of-type {\n",
       "        vertical-align: middle;\n",
       "    }\n",
       "\n",
       "    .dataframe tbody tr th {\n",
       "        vertical-align: top;\n",
       "    }\n",
       "\n",
       "    .dataframe thead th {\n",
       "        text-align: right;\n",
       "    }\n",
       "</style>\n",
       "<table border=\"1\" class=\"dataframe\">\n",
       "  <thead>\n",
       "    <tr style=\"text-align: right;\">\n",
       "      <th></th>\n",
       "      <th>adult_icu_crci_patients</th>\n",
       "      <th>adult_icu_non_crci_patients</th>\n",
       "      <th>available_adult_icu_beds</th>\n",
       "      <th>total_adult_icu_patients</th>\n",
       "      <th>total_adult_icu_beds</th>\n",
       "      <th>ped_icu_crci_patients</th>\n",
       "      <th>ped_icu_non_crci_patients</th>\n",
       "      <th>available_ped_icu_beds</th>\n",
       "      <th>total_ped_icu_patients</th>\n",
       "      <th>total_ped_icu_beds</th>\n",
       "    </tr>\n",
       "  </thead>\n",
       "  <tbody>\n",
       "    <tr>\n",
       "      <td>count</td>\n",
       "      <td>655.000000</td>\n",
       "      <td>655.000000</td>\n",
       "      <td>655.000000</td>\n",
       "      <td>655.000000</td>\n",
       "      <td>655.000000</td>\n",
       "      <td>655.000000</td>\n",
       "      <td>655.000000</td>\n",
       "      <td>655.000000</td>\n",
       "      <td>655.000000</td>\n",
       "      <td>655.000000</td>\n",
       "    </tr>\n",
       "    <tr>\n",
       "      <td>mean</td>\n",
       "      <td>251.783206</td>\n",
       "      <td>1439.909924</td>\n",
       "      <td>557.796947</td>\n",
       "      <td>1691.693130</td>\n",
       "      <td>2249.490076</td>\n",
       "      <td>1.885496</td>\n",
       "      <td>54.928244</td>\n",
       "      <td>35.532824</td>\n",
       "      <td>56.813740</td>\n",
       "      <td>92.346565</td>\n",
       "    </tr>\n",
       "    <tr>\n",
       "      <td>std</td>\n",
       "      <td>204.279555</td>\n",
       "      <td>125.563620</td>\n",
       "      <td>147.217516</td>\n",
       "      <td>127.422515</td>\n",
       "      <td>184.996841</td>\n",
       "      <td>2.787700</td>\n",
       "      <td>8.935175</td>\n",
       "      <td>8.423522</td>\n",
       "      <td>8.847094</td>\n",
       "      <td>3.180678</td>\n",
       "    </tr>\n",
       "    <tr>\n",
       "      <td>min</td>\n",
       "      <td>18.000000</td>\n",
       "      <td>1065.000000</td>\n",
       "      <td>320.000000</td>\n",
       "      <td>1398.000000</td>\n",
       "      <td>2012.000000</td>\n",
       "      <td>0.000000</td>\n",
       "      <td>34.000000</td>\n",
       "      <td>8.000000</td>\n",
       "      <td>34.000000</td>\n",
       "      <td>89.000000</td>\n",
       "    </tr>\n",
       "    <tr>\n",
       "      <td>25%</td>\n",
       "      <td>114.500000</td>\n",
       "      <td>1357.000000</td>\n",
       "      <td>446.000000</td>\n",
       "      <td>1594.000000</td>\n",
       "      <td>2016.000000</td>\n",
       "      <td>0.000000</td>\n",
       "      <td>48.000000</td>\n",
       "      <td>30.000000</td>\n",
       "      <td>51.000000</td>\n",
       "      <td>89.000000</td>\n",
       "    </tr>\n",
       "    <tr>\n",
       "      <td>50%</td>\n",
       "      <td>172.000000</td>\n",
       "      <td>1463.000000</td>\n",
       "      <td>531.000000</td>\n",
       "      <td>1692.000000</td>\n",
       "      <td>2319.000000</td>\n",
       "      <td>1.000000</td>\n",
       "      <td>54.000000</td>\n",
       "      <td>36.000000</td>\n",
       "      <td>56.000000</td>\n",
       "      <td>93.000000</td>\n",
       "    </tr>\n",
       "    <tr>\n",
       "      <td>75%</td>\n",
       "      <td>349.500000</td>\n",
       "      <td>1540.500000</td>\n",
       "      <td>632.500000</td>\n",
       "      <td>1772.000000</td>\n",
       "      <td>2356.000000</td>\n",
       "      <td>2.000000</td>\n",
       "      <td>61.000000</td>\n",
       "      <td>41.000000</td>\n",
       "      <td>62.000000</td>\n",
       "      <td>93.000000</td>\n",
       "    </tr>\n",
       "    <tr>\n",
       "      <td>max</td>\n",
       "      <td>889.000000</td>\n",
       "      <td>1637.000000</td>\n",
       "      <td>980.000000</td>\n",
       "      <td>2038.000000</td>\n",
       "      <td>2554.000000</td>\n",
       "      <td>13.000000</td>\n",
       "      <td>85.000000</td>\n",
       "      <td>55.000000</td>\n",
       "      <td>85.000000</td>\n",
       "      <td>105.000000</td>\n",
       "    </tr>\n",
       "  </tbody>\n",
       "</table>\n",
       "</div>"
      ],
      "text/plain": [
       "       adult_icu_crci_patients  adult_icu_non_crci_patients  \\\n",
       "count               655.000000                   655.000000   \n",
       "mean                251.783206                  1439.909924   \n",
       "std                 204.279555                   125.563620   \n",
       "min                  18.000000                  1065.000000   \n",
       "25%                 114.500000                  1357.000000   \n",
       "50%                 172.000000                  1463.000000   \n",
       "75%                 349.500000                  1540.500000   \n",
       "max                 889.000000                  1637.000000   \n",
       "\n",
       "       available_adult_icu_beds  total_adult_icu_patients  \\\n",
       "count                655.000000                655.000000   \n",
       "mean                 557.796947               1691.693130   \n",
       "std                  147.217516                127.422515   \n",
       "min                  320.000000               1398.000000   \n",
       "25%                  446.000000               1594.000000   \n",
       "50%                  531.000000               1692.000000   \n",
       "75%                  632.500000               1772.000000   \n",
       "max                  980.000000               2038.000000   \n",
       "\n",
       "       total_adult_icu_beds  ped_icu_crci_patients  ped_icu_non_crci_patients  \\\n",
       "count            655.000000             655.000000                 655.000000   \n",
       "mean            2249.490076               1.885496                  54.928244   \n",
       "std              184.996841               2.787700                   8.935175   \n",
       "min             2012.000000               0.000000                  34.000000   \n",
       "25%             2016.000000               0.000000                  48.000000   \n",
       "50%             2319.000000               1.000000                  54.000000   \n",
       "75%             2356.000000               2.000000                  61.000000   \n",
       "max             2554.000000              13.000000                  85.000000   \n",
       "\n",
       "       available_ped_icu_beds  total_ped_icu_patients  total_ped_icu_beds  \n",
       "count              655.000000              655.000000          655.000000  \n",
       "mean                35.532824               56.813740           92.346565  \n",
       "std                  8.423522                8.847094            3.180678  \n",
       "min                  8.000000               34.000000           89.000000  \n",
       "25%                 30.000000               51.000000           89.000000  \n",
       "50%                 36.000000               56.000000           93.000000  \n",
       "75%                 41.000000               62.000000           93.000000  \n",
       "max                 55.000000               85.000000          105.000000  "
      ]
     },
     "execution_count": 60,
     "metadata": {},
     "output_type": "execute_result"
    }
   ],
   "source": [
    "data.describe()"
   ]
  },
  {
   "cell_type": "code",
   "execution_count": 4,
   "metadata": {},
   "outputs": [],
   "source": [
    "# Will want to focus on patients rather than amount of beds because it will be more useful to know now many are absolutely necessary to set aside for CRCI patients within the ICU, then the amount of total beds needed for all ICU patients. Therefore, main variable of focus will be adult and pediatric CRCI patient numbers. Secondary will be total adult/ped ICU patients\n",
    "# First part focus is adult CRCI patients"
   ]
  },
  {
   "cell_type": "code",
   "execution_count": 15,
   "metadata": {
    "scrolled": true
   },
   "outputs": [
    {
     "data": {
      "text/plain": [
       "count    655.000000\n",
       "mean     251.783206\n",
       "std      204.279555\n",
       "min       18.000000\n",
       "25%      114.500000\n",
       "50%      172.000000\n",
       "75%      349.500000\n",
       "max      889.000000\n",
       "Name: adult_icu_crci_patients, dtype: float64"
      ]
     },
     "execution_count": 15,
     "metadata": {},
     "output_type": "execute_result"
    }
   ],
   "source": [
    "# data.describe(data['adult_icu_crci_patients'])\n",
    "pd.Series.describe(data) # For a general overview\n",
    "pd.Series.describe(data['adult_icu_crci_patients'])\n"
   ]
  },
  {
   "cell_type": "code",
   "execution_count": 17,
   "metadata": {},
   "outputs": [
    {
     "name": "stdout",
     "output_type": "stream",
     "text": [
      "0\n"
     ]
    }
   ],
   "source": [
    "#Data cleaning\n",
    "#outliers do not really apply to this time series as each recorded observation/ previous counts of crci icu patients are necessary to predict future values.\n",
    "\n",
    "missing1 = (data['adult_icu_crci_patients'] == 0).sum()\n",
    "print(missing1)"
   ]
  },
  {
   "cell_type": "code",
   "execution_count": 26,
   "metadata": {},
   "outputs": [
    {
     "data": {
      "text/plain": [
       "date\n",
       "2020-05-01    False\n",
       "2020-05-02    False\n",
       "2020-05-03    False\n",
       "2020-05-04    False\n",
       "2020-05-05    False\n",
       "              ...  \n",
       "2022-02-10    False\n",
       "2022-02-11    False\n",
       "2022-02-12    False\n",
       "2022-02-13    False\n",
       "2022-02-14    False\n",
       "Length: 655, dtype: bool"
      ]
     },
     "execution_count": 26,
     "metadata": {},
     "output_type": "execute_result"
    }
   ],
   "source": [
    "#check for missing observations\n",
    "data.duplicated(keep='first')"
   ]
  },
  {
   "cell_type": "code",
   "execution_count": 27,
   "metadata": {},
   "outputs": [],
   "source": [
    "from pandas.plotting import register_matplotlib_converters\n",
    "register_matplotlib_converters()"
   ]
  },
  {
   "cell_type": "code",
   "execution_count": 29,
   "metadata": {
    "scrolled": false
   },
   "outputs": [
    {
     "data": {
      "image/png": "[encoded data removed]",
      "text/plain": [
       "<Figure size 432x288 with 1 Axes>"
      ]
     },
     "metadata": {
      "needs_background": "light"
     },
     "output_type": "display_data"
    },
    {
     "data": {
      "image/png": "[encoded data removed]",
      "text/plain": [
       "<Figure size 432x288 with 1 Axes>"
      ]
     },
     "metadata": {
      "needs_background": "light"
     },
     "output_type": "display_data"
    },
    {
     "data": {
      "image/png": "[encoded data removed]",
      "text/plain": [
       "<Figure size 432x288 with 1 Axes>"
      ]
     },
     "metadata": {
      "needs_background": "light"
     },
     "output_type": "display_data"
    }
   ],
   "source": [
    "plt.plot(data[0:655]['adult_icu_crci_patients'])\n",
    "plt.xticks(rotation = 30)\n",
    "plt.show()\n",
    "\n",
    "# plt.plot(data[0:655])\n",
    "# plt.xticks(rotation = 30)\n",
    "# plt.show()\n",
    "\n",
    "\n",
    "plt.plot(data.iloc[: , [0, 3]])\n",
    "plt.xticks(rotation = 30)\n",
    "plt.show()\n",
    "\n",
    "plt.plot(data.iloc[: , [5, 8]])\n",
    "plt.xticks(rotation = 30)\n",
    "plt.show()"
   ]
  },
  {
   "cell_type": "code",
   "execution_count": 7,
   "metadata": {},
   "outputs": [
    {
     "data": {
      "text/html": [
       "<div>\n",
       "<style scoped>\n",
       "    .dataframe tbody tr th:only-of-type {\n",
       "        vertical-align: middle;\n",
       "    }\n",
       "\n",
       "    .dataframe tbody tr th {\n",
       "        vertical-align: top;\n",
       "    }\n",
       "\n",
       "    .dataframe thead th {\n",
       "        text-align: right;\n",
       "    }\n",
       "</style>\n",
       "<table border=\"1\" class=\"dataframe\">\n",
       "  <thead>\n",
       "    <tr style=\"text-align: right;\">\n",
       "      <th></th>\n",
       "      <th>adult_icu_crci_patients</th>\n",
       "      <th>total_adult_icu_patients</th>\n",
       "      <th>ped_icu_crci_patients</th>\n",
       "      <th>total_ped_icu_patients</th>\n",
       "    </tr>\n",
       "  </thead>\n",
       "  <tbody>\n",
       "    <tr>\n",
       "      <td>count</td>\n",
       "      <td>655.000000</td>\n",
       "      <td>655.000000</td>\n",
       "      <td>655.000000</td>\n",
       "      <td>655.000000</td>\n",
       "    </tr>\n",
       "    <tr>\n",
       "      <td>mean</td>\n",
       "      <td>251.783206</td>\n",
       "      <td>1691.693130</td>\n",
       "      <td>1.885496</td>\n",
       "      <td>56.813740</td>\n",
       "    </tr>\n",
       "    <tr>\n",
       "      <td>std</td>\n",
       "      <td>204.279555</td>\n",
       "      <td>127.422515</td>\n",
       "      <td>2.787700</td>\n",
       "      <td>8.847094</td>\n",
       "    </tr>\n",
       "    <tr>\n",
       "      <td>min</td>\n",
       "      <td>18.000000</td>\n",
       "      <td>1398.000000</td>\n",
       "      <td>0.000000</td>\n",
       "      <td>34.000000</td>\n",
       "    </tr>\n",
       "    <tr>\n",
       "      <td>25%</td>\n",
       "      <td>114.500000</td>\n",
       "      <td>1594.000000</td>\n",
       "      <td>0.000000</td>\n",
       "      <td>51.000000</td>\n",
       "    </tr>\n",
       "    <tr>\n",
       "      <td>50%</td>\n",
       "      <td>172.000000</td>\n",
       "      <td>1692.000000</td>\n",
       "      <td>1.000000</td>\n",
       "      <td>56.000000</td>\n",
       "    </tr>\n",
       "    <tr>\n",
       "      <td>75%</td>\n",
       "      <td>349.500000</td>\n",
       "      <td>1772.000000</td>\n",
       "      <td>2.000000</td>\n",
       "      <td>62.000000</td>\n",
       "    </tr>\n",
       "    <tr>\n",
       "      <td>max</td>\n",
       "      <td>889.000000</td>\n",
       "      <td>2038.000000</td>\n",
       "      <td>13.000000</td>\n",
       "      <td>85.000000</td>\n",
       "    </tr>\n",
       "  </tbody>\n",
       "</table>\n",
       "</div>"
      ],
      "text/plain": [
       "       adult_icu_crci_patients  total_adult_icu_patients  \\\n",
       "count               655.000000                655.000000   \n",
       "mean                251.783206               1691.693130   \n",
       "std                 204.279555                127.422515   \n",
       "min                  18.000000               1398.000000   \n",
       "25%                 114.500000               1594.000000   \n",
       "50%                 172.000000               1692.000000   \n",
       "75%                 349.500000               1772.000000   \n",
       "max                 889.000000               2038.000000   \n",
       "\n",
       "       ped_icu_crci_patients  total_ped_icu_patients  \n",
       "count             655.000000              655.000000  \n",
       "mean                1.885496               56.813740  \n",
       "std                 2.787700                8.847094  \n",
       "min                 0.000000               34.000000  \n",
       "25%                 0.000000               51.000000  \n",
       "50%                 1.000000               56.000000  \n",
       "75%                 2.000000               62.000000  \n",
       "max                13.000000               85.000000  "
      ]
     },
     "execution_count": 7,
     "metadata": {},
     "output_type": "execute_result"
    }
   ],
   "source": [
    "pd.Series.describe(data.iloc[: , [0, 3, 5, 8]])\n",
    "\n",
    "# newdata = data[['date','adult_icu_crci_patients', 'total_adult_icu_patients', 'ped_icu_crci_patients', 'total_ped_icu_patients']].copy()\n",
    "# pd.Series.describe(newdata)\n",
    "# newdata.head(newdata)\n",
    "# pd.Series.describe(data[1])\n",
    "# data.head(data['date'])\n"
   ]
  },
  {
   "cell_type": "code",
   "execution_count": 8,
   "metadata": {},
   "outputs": [
    {
     "data": {
      "text/html": [
       "<div>\n",
       "<style scoped>\n",
       "    .dataframe tbody tr th:only-of-type {\n",
       "        vertical-align: middle;\n",
       "    }\n",
       "\n",
       "    .dataframe tbody tr th {\n",
       "        vertical-align: top;\n",
       "    }\n",
       "\n",
       "    .dataframe thead th {\n",
       "        text-align: right;\n",
       "    }\n",
       "</style>\n",
       "<table border=\"1\" class=\"dataframe\">\n",
       "  <thead>\n",
       "    <tr style=\"text-align: right;\">\n",
       "      <th></th>\n",
       "      <th>adult_icu_crci_patients</th>\n",
       "      <th>total_adult_icu_patients</th>\n",
       "      <th>ped_icu_crci_patients</th>\n",
       "      <th>total_ped_icu_patients</th>\n",
       "    </tr>\n",
       "    <tr>\n",
       "      <th>date</th>\n",
       "      <th></th>\n",
       "      <th></th>\n",
       "      <th></th>\n",
       "      <th></th>\n",
       "    </tr>\n",
       "  </thead>\n",
       "  <tbody>\n",
       "    <tr>\n",
       "      <td>2020-05-01</td>\n",
       "      <td>244</td>\n",
       "      <td>1398</td>\n",
       "      <td>0</td>\n",
       "      <td>51</td>\n",
       "    </tr>\n",
       "    <tr>\n",
       "      <td>2020-05-02</td>\n",
       "      <td>236</td>\n",
       "      <td>1446</td>\n",
       "      <td>0</td>\n",
       "      <td>56</td>\n",
       "    </tr>\n",
       "    <tr>\n",
       "      <td>2020-05-03</td>\n",
       "      <td>246</td>\n",
       "      <td>1457</td>\n",
       "      <td>0</td>\n",
       "      <td>54</td>\n",
       "    </tr>\n",
       "    <tr>\n",
       "      <td>2020-05-04</td>\n",
       "      <td>243</td>\n",
       "      <td>1440</td>\n",
       "      <td>0</td>\n",
       "      <td>56</td>\n",
       "    </tr>\n",
       "    <tr>\n",
       "      <td>2020-05-05</td>\n",
       "      <td>243</td>\n",
       "      <td>1495</td>\n",
       "      <td>0</td>\n",
       "      <td>59</td>\n",
       "    </tr>\n",
       "  </tbody>\n",
       "</table>\n",
       "</div>"
      ],
      "text/plain": [
       "            adult_icu_crci_patients  total_adult_icu_patients  \\\n",
       "date                                                            \n",
       "2020-05-01                      244                      1398   \n",
       "2020-05-02                      236                      1446   \n",
       "2020-05-03                      246                      1457   \n",
       "2020-05-04                      243                      1440   \n",
       "2020-05-05                      243                      1495   \n",
       "\n",
       "            ped_icu_crci_patients  total_ped_icu_patients  \n",
       "date                                                       \n",
       "2020-05-01                      0                      51  \n",
       "2020-05-02                      0                      56  \n",
       "2020-05-03                      0                      54  \n",
       "2020-05-04                      0                      56  \n",
       "2020-05-05                      0                      59  "
      ]
     },
     "execution_count": 8,
     "metadata": {},
     "output_type": "execute_result"
    }
   ],
   "source": [
    "pd.Series.head(data.iloc[: , [0, 3, 5, 8]])"
   ]
  },
  {
   "cell_type": "code",
   "execution_count": 45,
   "metadata": {},
   "outputs": [
    {
     "data": {
      "text/html": [
       "<div>\n",
       "<style scoped>\n",
       "    .dataframe tbody tr th:only-of-type {\n",
       "        vertical-align: middle;\n",
       "    }\n",
       "\n",
       "    .dataframe tbody tr th {\n",
       "        vertical-align: top;\n",
       "    }\n",
       "\n",
       "    .dataframe thead th {\n",
       "        text-align: right;\n",
       "    }\n",
       "</style>\n",
       "<table border=\"1\" class=\"dataframe\">\n",
       "  <thead>\n",
       "    <tr style=\"text-align: right;\">\n",
       "      <th></th>\n",
       "      <th>adult_icu_crci_patients</th>\n",
       "      <th>total_adult_icu_patients</th>\n",
       "      <th>ped_icu_crci_patients</th>\n",
       "      <th>total_ped_icu_patients</th>\n",
       "    </tr>\n",
       "    <tr>\n",
       "      <th>date</th>\n",
       "      <th></th>\n",
       "      <th></th>\n",
       "      <th></th>\n",
       "      <th></th>\n",
       "    </tr>\n",
       "  </thead>\n",
       "  <tbody>\n",
       "    <tr>\n",
       "      <td>2020-05-01</td>\n",
       "      <td>244</td>\n",
       "      <td>1398</td>\n",
       "      <td>0</td>\n",
       "      <td>51</td>\n",
       "    </tr>\n",
       "    <tr>\n",
       "      <td>2020-05-02</td>\n",
       "      <td>236</td>\n",
       "      <td>1446</td>\n",
       "      <td>0</td>\n",
       "      <td>56</td>\n",
       "    </tr>\n",
       "    <tr>\n",
       "      <td>2020-05-03</td>\n",
       "      <td>246</td>\n",
       "      <td>1457</td>\n",
       "      <td>0</td>\n",
       "      <td>54</td>\n",
       "    </tr>\n",
       "    <tr>\n",
       "      <td>2020-05-04</td>\n",
       "      <td>243</td>\n",
       "      <td>1440</td>\n",
       "      <td>0</td>\n",
       "      <td>56</td>\n",
       "    </tr>\n",
       "    <tr>\n",
       "      <td>2020-05-05</td>\n",
       "      <td>243</td>\n",
       "      <td>1495</td>\n",
       "      <td>0</td>\n",
       "      <td>59</td>\n",
       "    </tr>\n",
       "    <tr>\n",
       "      <td>...</td>\n",
       "      <td>...</td>\n",
       "      <td>...</td>\n",
       "      <td>...</td>\n",
       "      <td>...</td>\n",
       "    </tr>\n",
       "    <tr>\n",
       "      <td>2022-02-10</td>\n",
       "      <td>442</td>\n",
       "      <td>1809</td>\n",
       "      <td>3</td>\n",
       "      <td>58</td>\n",
       "    </tr>\n",
       "    <tr>\n",
       "      <td>2022-02-11</td>\n",
       "      <td>429</td>\n",
       "      <td>1805</td>\n",
       "      <td>6</td>\n",
       "      <td>58</td>\n",
       "    </tr>\n",
       "    <tr>\n",
       "      <td>2022-02-12</td>\n",
       "      <td>407</td>\n",
       "      <td>1792</td>\n",
       "      <td>7</td>\n",
       "      <td>55</td>\n",
       "    </tr>\n",
       "    <tr>\n",
       "      <td>2022-02-13</td>\n",
       "      <td>395</td>\n",
       "      <td>1771</td>\n",
       "      <td>7</td>\n",
       "      <td>54</td>\n",
       "    </tr>\n",
       "    <tr>\n",
       "      <td>2022-02-14</td>\n",
       "      <td>386</td>\n",
       "      <td>1755</td>\n",
       "      <td>8</td>\n",
       "      <td>53</td>\n",
       "    </tr>\n",
       "  </tbody>\n",
       "</table>\n",
       "<p>655 rows × 4 columns</p>\n",
       "</div>"
      ],
      "text/plain": [
       "            adult_icu_crci_patients  total_adult_icu_patients  \\\n",
       "date                                                            \n",
       "2020-05-01                      244                      1398   \n",
       "2020-05-02                      236                      1446   \n",
       "2020-05-03                      246                      1457   \n",
       "2020-05-04                      243                      1440   \n",
       "2020-05-05                      243                      1495   \n",
       "...                             ...                       ...   \n",
       "2022-02-10                      442                      1809   \n",
       "2022-02-11                      429                      1805   \n",
       "2022-02-12                      407                      1792   \n",
       "2022-02-13                      395                      1771   \n",
       "2022-02-14                      386                      1755   \n",
       "\n",
       "            ped_icu_crci_patients  total_ped_icu_patients  \n",
       "date                                                       \n",
       "2020-05-01                      0                      51  \n",
       "2020-05-02                      0                      56  \n",
       "2020-05-03                      0                      54  \n",
       "2020-05-04                      0                      56  \n",
       "2020-05-05                      0                      59  \n",
       "...                           ...                     ...  \n",
       "2022-02-10                      3                      58  \n",
       "2022-02-11                      6                      58  \n",
       "2022-02-12                      7                      55  \n",
       "2022-02-13                      7                      54  \n",
       "2022-02-14                      8                      53  \n",
       "\n",
       "[655 rows x 4 columns]"
      ]
     },
     "execution_count": 45,
     "metadata": {},
     "output_type": "execute_result"
    }
   ],
   "source": [
    "critpatientdf = (data.iloc[: , [0, 3, 5, 8]])\n",
    "critpatientdf"
   ]
  },
  {
   "cell_type": "code",
   "execution_count": 79,
   "metadata": {},
   "outputs": [
    {
     "data": {
      "image/png": "[encoded data removed]",
      "text/plain": [
       "<Figure size 1440x360 with 1 Axes>"
      ]
     },
     "metadata": {
      "needs_background": "light"
     },
     "output_type": "display_data"
    }
   ],
   "source": [
    "#mean, std per week\n",
    "critpatientdf.resample(rule = 'w').mean()\n",
    "critpatientdf['adult_icu_crci_patients'].resample(rule = 'm').mean().plot.bar(color=list('rgb'))\n",
    "plt.title('Monthly Mean CRCI ICU Adults')\n",
    "plt.ylabel('Beds')\n",
    "rcParams['figure.figsize'] = 20, 5"
   ]
  },
  {
   "cell_type": "code",
   "execution_count": 73,
   "metadata": {},
   "outputs": [
    {
     "data": {
      "text/html": [
       "<div>\n",
       "<style scoped>\n",
       "    .dataframe tbody tr th:only-of-type {\n",
       "        vertical-align: middle;\n",
       "    }\n",
       "\n",
       "    .dataframe tbody tr th {\n",
       "        vertical-align: top;\n",
       "    }\n",
       "\n",
       "    .dataframe thead th {\n",
       "        text-align: right;\n",
       "    }\n",
       "</style>\n",
       "<table border=\"1\" class=\"dataframe\">\n",
       "  <thead>\n",
       "    <tr style=\"text-align: right;\">\n",
       "      <th></th>\n",
       "      <th>adult_icu_crci_patients</th>\n",
       "      <th>total_adult_icu_patients</th>\n",
       "      <th>ped_icu_crci_patients</th>\n",
       "      <th>total_ped_icu_patients</th>\n",
       "    </tr>\n",
       "    <tr>\n",
       "      <th>date</th>\n",
       "      <th></th>\n",
       "      <th></th>\n",
       "      <th></th>\n",
       "      <th></th>\n",
       "    </tr>\n",
       "  </thead>\n",
       "  <tbody>\n",
       "    <tr>\n",
       "      <td>2020-05-03</td>\n",
       "      <td>5.291503</td>\n",
       "      <td>31.374087</td>\n",
       "      <td>0.000000</td>\n",
       "      <td>2.516611</td>\n",
       "    </tr>\n",
       "    <tr>\n",
       "      <td>2020-05-10</td>\n",
       "      <td>12.566016</td>\n",
       "      <td>34.586675</td>\n",
       "      <td>0.000000</td>\n",
       "      <td>3.785939</td>\n",
       "    </tr>\n",
       "    <tr>\n",
       "      <td>2020-05-17</td>\n",
       "      <td>9.759001</td>\n",
       "      <td>32.851759</td>\n",
       "      <td>0.000000</td>\n",
       "      <td>6.019809</td>\n",
       "    </tr>\n",
       "    <tr>\n",
       "      <td>2020-05-24</td>\n",
       "      <td>7.010197</td>\n",
       "      <td>31.410493</td>\n",
       "      <td>0.000000</td>\n",
       "      <td>3.436499</td>\n",
       "    </tr>\n",
       "    <tr>\n",
       "      <td>2020-05-31</td>\n",
       "      <td>8.499300</td>\n",
       "      <td>40.188840</td>\n",
       "      <td>0.000000</td>\n",
       "      <td>2.935821</td>\n",
       "    </tr>\n",
       "    <tr>\n",
       "      <td>...</td>\n",
       "      <td>...</td>\n",
       "      <td>...</td>\n",
       "      <td>...</td>\n",
       "      <td>...</td>\n",
       "    </tr>\n",
       "    <tr>\n",
       "      <td>2022-01-23</td>\n",
       "      <td>9.754120</td>\n",
       "      <td>31.991814</td>\n",
       "      <td>1.511858</td>\n",
       "      <td>4.000000</td>\n",
       "    </tr>\n",
       "    <tr>\n",
       "      <td>2022-01-30</td>\n",
       "      <td>11.992061</td>\n",
       "      <td>30.980793</td>\n",
       "      <td>0.975900</td>\n",
       "      <td>1.718249</td>\n",
       "    </tr>\n",
       "    <tr>\n",
       "      <td>2022-02-06</td>\n",
       "      <td>34.165563</td>\n",
       "      <td>16.571634</td>\n",
       "      <td>1.154701</td>\n",
       "      <td>4.041452</td>\n",
       "    </tr>\n",
       "    <tr>\n",
       "      <td>2022-02-13</td>\n",
       "      <td>30.015869</td>\n",
       "      <td>19.213091</td>\n",
       "      <td>1.463850</td>\n",
       "      <td>2.214670</td>\n",
       "    </tr>\n",
       "    <tr>\n",
       "      <td>2022-02-20</td>\n",
       "      <td>NaN</td>\n",
       "      <td>NaN</td>\n",
       "      <td>NaN</td>\n",
       "      <td>NaN</td>\n",
       "    </tr>\n",
       "  </tbody>\n",
       "</table>\n",
       "<p>95 rows × 4 columns</p>\n",
       "</div>"
      ],
      "text/plain": [
       "            adult_icu_crci_patients  total_adult_icu_patients  \\\n",
       "date                                                            \n",
       "2020-05-03                 5.291503                 31.374087   \n",
       "2020-05-10                12.566016                 34.586675   \n",
       "2020-05-17                 9.759001                 32.851759   \n",
       "2020-05-24                 7.010197                 31.410493   \n",
       "2020-05-31                 8.499300                 40.188840   \n",
       "...                             ...                       ...   \n",
       "2022-01-23                 9.754120                 31.991814   \n",
       "2022-01-30                11.992061                 30.980793   \n",
       "2022-02-06                34.165563                 16.571634   \n",
       "2022-02-13                30.015869                 19.213091   \n",
       "2022-02-20                      NaN                       NaN   \n",
       "\n",
       "            ped_icu_crci_patients  total_ped_icu_patients  \n",
       "date                                                       \n",
       "2020-05-03               0.000000                2.516611  \n",
       "2020-05-10               0.000000                3.785939  \n",
       "2020-05-17               0.000000                6.019809  \n",
       "2020-05-24               0.000000                3.436499  \n",
       "2020-05-31               0.000000                2.935821  \n",
       "...                           ...                     ...  \n",
       "2022-01-23               1.511858                4.000000  \n",
       "2022-01-30               0.975900                1.718249  \n",
       "2022-02-06               1.154701                4.041452  \n",
       "2022-02-13               1.463850                2.214670  \n",
       "2022-02-20                    NaN                     NaN  \n",
       "\n",
       "[95 rows x 4 columns]"
      ]
     },
     "execution_count": 73,
     "metadata": {},
     "output_type": "execute_result"
    }
   ],
   "source": [
    "critpatientdf.resample(rule = 'w').std()"
   ]
  },
  {
   "cell_type": "code",
   "execution_count": 82,
   "metadata": {},
   "outputs": [
    {
     "data": {
      "text/plain": [
       "<matplotlib.axes._subplots.AxesSubplot at 0x2189e044948>"
      ]
     },
     "execution_count": 82,
     "metadata": {},
     "output_type": "execute_result"
    },
    {
     "data": {
      "image/png": "[encoded data removed]",
      "text/plain": [
       "<Figure size 1440x360 with 1 Axes>"
      ]
     },
     "metadata": {
      "needs_background": "light"
     },
     "output_type": "display_data"
    }
   ],
   "source": [
    "#moving weekly average, showing changes in the number of critical ICU patients per week, smoothing time series\n",
    "critpatientdf['adult_icu_crci_patients'].plot(figsize=(20,5))\n",
    "critpatientdf.rolling(window=7).mean()['adult_icu_crci_patients'].plot()"
   ]
  },
  {
   "cell_type": "code",
   "execution_count": null,
   "metadata": {},
   "outputs": [],
   "source": []
  },
  {
   "cell_type": "code",
   "execution_count": null,
   "metadata": {},
   "outputs": [],
   "source": []
  },
  {
   "cell_type": "code",
   "execution_count": 53,
   "metadata": {},
   "outputs": [],
   "source": [
    "from statsmodels.tsa.seasonal import seasonal_decompose\n",
    "from dateutil.parser import parse"
   ]
  },
  {
   "cell_type": "code",
   "execution_count": 54,
   "metadata": {
    "scrolled": true
   },
   "outputs": [
    {
     "data": {
      "text/plain": [
       "[<matplotlib.lines.Line2D at 0x2189d52b108>]"
      ]
     },
     "execution_count": 54,
     "metadata": {},
     "output_type": "execute_result"
    },
    {
     "data": {
      "image/png": "[encoded data removed]",
      "text/plain": [
       "<Figure size 432x288 with 1 Axes>"
      ]
     },
     "metadata": {
      "needs_background": "light"
     },
     "output_type": "display_data"
    }
   ],
   "source": [
    "# plt.plot(critpatientdf)\n",
    "plt.plot(critpatientdf[\"adult_icu_crci_patients\"])"
   ]
  },
  {
   "cell_type": "code",
   "execution_count": 55,
   "metadata": {},
   "outputs": [],
   "source": [
    "adultcrit = pd.DataFrame(data, columns=['adult_icu_crci_patients'])\n",
    "# adultcrit.head()\n",
    "# type(adultcrit)"
   ]
  },
  {
   "cell_type": "code",
   "execution_count": 66,
   "metadata": {},
   "outputs": [
    {
     "ename": "AttributeError",
     "evalue": "'Figure' object has no attribute 'Subtitle'",
     "output_type": "error",
     "traceback": [
      "\u001b[1;31m---------------------------------------------------------------------------\u001b[0m",
      "\u001b[1;31mAttributeError\u001b[0m                            Traceback (most recent call last)",
      "\u001b[1;32m<ipython-input-66-f855386b2474>\u001b[0m in \u001b[0;36m<module>\u001b[1;34m\u001b[0m\n\u001b[0;32m      1\u001b[0m \u001b[0mmulti_adcrit\u001b[0m \u001b[1;33m=\u001b[0m \u001b[0mseasonal_decompose\u001b[0m\u001b[1;33m(\u001b[0m\u001b[0madultcrit\u001b[0m\u001b[1;33m,\u001b[0m \u001b[0mmodel\u001b[0m \u001b[1;33m=\u001b[0m \u001b[1;34m\"multiplicative\"\u001b[0m\u001b[1;33m)\u001b[0m\u001b[1;33m\u001b[0m\u001b[1;33m\u001b[0m\u001b[0m\n\u001b[1;32m----> 2\u001b[1;33m \u001b[0mmulti_adcrit\u001b[0m\u001b[1;33m.\u001b[0m\u001b[0mplot\u001b[0m\u001b[1;33m(\u001b[0m\u001b[1;33m)\u001b[0m\u001b[1;33m.\u001b[0m\u001b[0mSubtitle\u001b[0m\u001b[1;33m(\u001b[0m\u001b[1;34m'\\n Multiplicative Decompose'\u001b[0m\u001b[1;33m,\u001b[0m \u001b[0mfontsize\u001b[0m \u001b[1;33m=\u001b[0m \u001b[1;36m12\u001b[0m\u001b[1;33m)\u001b[0m\u001b[1;33m\u001b[0m\u001b[1;33m\u001b[0m\u001b[0m\n\u001b[0m",
      "\u001b[1;31mAttributeError\u001b[0m: 'Figure' object has no attribute 'Subtitle'"
     ]
    },
    {
     "data": {
      "image/png": "[encoded data removed]",
      "text/plain": [
       "<Figure size 432x288 with 4 Axes>"
      ]
     },
     "metadata": {
      "needs_background": "light"
     },
     "output_type": "display_data"
    }
   ],
   "source": [
    "multi_adcrit = seasonal_decompose(adultcrit, model = \"multiplicative\")\n",
    "multi_adcrit.plot().Subtitle('\\n Multiplicative Decompose', fontsize = 12)"
   ]
  },
  {
   "cell_type": "code",
   "execution_count": 70,
   "metadata": {},
   "outputs": [
    {
     "name": "stdout",
     "output_type": "stream",
     "text": [
      "<statsmodels.tsa.seasonal.DecomposeResult object at 0x000002189D8834C8>\n"
     ]
    }
   ],
   "source": [
    "print(multi_adcrit)"
   ]
  },
  {
   "cell_type": "code",
   "execution_count": 67,
   "metadata": {},
   "outputs": [
    {
     "ename": "ValueError",
     "evalue": "DataFrame constructor not properly called!",
     "output_type": "error",
     "traceback": [
      "\u001b[1;31m---------------------------------------------------------------------------\u001b[0m",
      "\u001b[1;31mValueError\u001b[0m                                Traceback (most recent call last)",
      "\u001b[1;32m<ipython-input-67-695e1a4dfce1>\u001b[0m in \u001b[0;36m<module>\u001b[1;34m\u001b[0m\n\u001b[0;32m      1\u001b[0m \u001b[1;31m# pd.DataFrame.multi_adcrit_new = ([multi_adcrit.seasonal, multi_adcrit.trend, multi_adcrit.resid, multi_adcrit.observed])\u001b[0m\u001b[1;33m\u001b[0m\u001b[1;33m\u001b[0m\u001b[1;33m\u001b[0m\u001b[0m\n\u001b[1;32m----> 2\u001b[1;33m \u001b[0mmulti_adcrit_new\u001b[0m \u001b[1;33m=\u001b[0m \u001b[0mpd\u001b[0m\u001b[1;33m.\u001b[0m\u001b[0mDataFrame\u001b[0m\u001b[1;33m(\u001b[0m\u001b[0mmulti_adcrit\u001b[0m\u001b[1;33m,\u001b[0m \u001b[0mcolumns\u001b[0m\u001b[1;33m=\u001b[0m\u001b[1;33m[\u001b[0m\u001b[1;34m'Seasonality'\u001b[0m\u001b[1;33m,\u001b[0m \u001b[1;34m'Trend'\u001b[0m\u001b[1;33m,\u001b[0m \u001b[1;34m'Residual'\u001b[0m\u001b[1;33m,\u001b[0m \u001b[1;34m'Actual Values'\u001b[0m\u001b[1;33m]\u001b[0m\u001b[1;33m)\u001b[0m\u001b[1;33m\u001b[0m\u001b[1;33m\u001b[0m\u001b[0m\n\u001b[0m\u001b[0;32m      3\u001b[0m \u001b[1;31m# multi_adcrit_new.columns = ['Seasonality', 'Trend', 'Residual', 'Actual Values']\u001b[0m\u001b[1;33m\u001b[0m\u001b[1;33m\u001b[0m\u001b[1;33m\u001b[0m\u001b[0m\n\u001b[0;32m      4\u001b[0m \u001b[0mmulti_adcrit_new\u001b[0m\u001b[1;33m.\u001b[0m\u001b[0mhead\u001b[0m\u001b[1;33m\u001b[0m\u001b[1;33m\u001b[0m\u001b[0m\n",
      "\u001b[1;32m~\\Anaconda3\\lib\\site-packages\\pandas\\core\\frame.py\u001b[0m in \u001b[0;36m__init__\u001b[1;34m(self, data, index, columns, dtype, copy)\u001b[0m\n\u001b[0;32m    483\u001b[0m                 )\n\u001b[0;32m    484\u001b[0m             \u001b[1;32melse\u001b[0m\u001b[1;33m:\u001b[0m\u001b[1;33m\u001b[0m\u001b[1;33m\u001b[0m\u001b[0m\n\u001b[1;32m--> 485\u001b[1;33m                 \u001b[1;32mraise\u001b[0m \u001b[0mValueError\u001b[0m\u001b[1;33m(\u001b[0m\u001b[1;34m\"DataFrame constructor not properly called!\"\u001b[0m\u001b[1;33m)\u001b[0m\u001b[1;33m\u001b[0m\u001b[1;33m\u001b[0m\u001b[0m\n\u001b[0m\u001b[0;32m    486\u001b[0m \u001b[1;33m\u001b[0m\u001b[0m\n\u001b[0;32m    487\u001b[0m         \u001b[0mNDFrame\u001b[0m\u001b[1;33m.\u001b[0m\u001b[0m__init__\u001b[0m\u001b[1;33m(\u001b[0m\u001b[0mself\u001b[0m\u001b[1;33m,\u001b[0m \u001b[0mmgr\u001b[0m\u001b[1;33m,\u001b[0m \u001b[0mfastpath\u001b[0m\u001b[1;33m=\u001b[0m\u001b[1;32mTrue\u001b[0m\u001b[1;33m)\u001b[0m\u001b[1;33m\u001b[0m\u001b[1;33m\u001b[0m\u001b[0m\n",
      "\u001b[1;31mValueError\u001b[0m: DataFrame constructor not properly called!"
     ]
    }
   ],
   "source": [
    "# pd.DataFrame.multi_adcrit_new = ([multi_adcrit.seasonal, multi_adcrit.trend, multi_adcrit.resid, multi_adcrit.observed])\n",
    "multi_adcrit_new = pd.DataFrame(multi_adcrit, columns=['Seasonality', 'Trend', 'Residual', 'Actual Values'])\n",
    "# multi_adcrit_new.columns = ['Seasonality', 'Trend', 'Residual', 'Actual Values']\n",
    "multi_adcrit_new.head"
   ]
  },
  {
   "cell_type": "code",
   "execution_count": null,
   "metadata": {},
   "outputs": [],
   "source": [
    "plt.plot(critpatientdf[\"ped_icu_crci_patients\"])"
   ]
  },
  {
   "cell_type": "code",
   "execution_count": null,
   "metadata": {},
   "outputs": [],
   "source": []
  },
  {
   "cell_type": "code",
   "execution_count": null,
   "metadata": {},
   "outputs": [],
   "source": []
  },
  {
   "cell_type": "code",
   "execution_count": null,
   "metadata": {},
   "outputs": [],
   "source": []
  },
  {
   "cell_type": "code",
   "execution_count": null,
   "metadata": {},
   "outputs": [],
   "source": []
  },
  {
   "cell_type": "code",
   "execution_count": null,
   "metadata": {},
   "outputs": [],
   "source": []
  },
  {
   "cell_type": "code",
   "execution_count": null,
   "metadata": {},
   "outputs": [],
   "source": []
  },
  {
   "cell_type": "code",
   "execution_count": null,
   "metadata": {},
   "outputs": [],
   "source": []
  },
  {
   "cell_type": "code",
   "execution_count": 31,
   "metadata": {},
   "outputs": [
    {
     "ename": "AttributeError",
     "evalue": "'DataFrame' object has no attribute 'date'",
     "output_type": "error",
     "traceback": [
      "\u001b[1;31m---------------------------------------------------------------------------\u001b[0m",
      "\u001b[1;31mAttributeError\u001b[0m                            Traceback (most recent call last)",
      "\u001b[1;32m<ipython-input-31-65000fa3700c>\u001b[0m in \u001b[0;36m<module>\u001b[1;34m\u001b[0m\n\u001b[0;32m      1\u001b[0m \u001b[1;31m# new = data.iloc[: , [0, 6, 7]].copy()\u001b[0m\u001b[1;33m\u001b[0m\u001b[1;33m\u001b[0m\u001b[1;33m\u001b[0m\u001b[0m\n\u001b[1;32m----> 2\u001b[1;33m \u001b[0mnewdata\u001b[0m \u001b[1;33m=\u001b[0m \u001b[0mpd\u001b[0m\u001b[1;33m.\u001b[0m\u001b[0mSeries\u001b[0m\u001b[1;33m(\u001b[0m\u001b[1;33m[\u001b[0m\u001b[0mdata\u001b[0m\u001b[1;33m.\u001b[0m\u001b[0mdate\u001b[0m\u001b[1;33m,\u001b[0m \u001b[0mdata\u001b[0m\u001b[1;33m.\u001b[0m\u001b[0madult_icu_crci_patients\u001b[0m\u001b[1;33m,\u001b[0m \u001b[0mdata\u001b[0m\u001b[1;33m.\u001b[0m\u001b[0mtotal_adult_icu_patients\u001b[0m\u001b[1;33m,\u001b[0m \u001b[0mdata\u001b[0m\u001b[1;33m.\u001b[0m\u001b[0mped_icu_crci_patients\u001b[0m\u001b[1;33m,\u001b[0m \u001b[0mdata\u001b[0m\u001b[1;33m.\u001b[0m\u001b[0mtotal_ped_icu_patients\u001b[0m\u001b[1;33m]\u001b[0m\u001b[1;33m)\u001b[0m\u001b[1;33m.\u001b[0m\u001b[0mtranspose\u001b[0m\u001b[1;33m(\u001b[0m\u001b[1;33m)\u001b[0m\u001b[1;33m\u001b[0m\u001b[1;33m\u001b[0m\u001b[0m\n\u001b[0m",
      "\u001b[1;32m~\\Anaconda3\\lib\\site-packages\\pandas\\core\\generic.py\u001b[0m in \u001b[0;36m__getattr__\u001b[1;34m(self, name)\u001b[0m\n\u001b[0;32m   5177\u001b[0m             \u001b[1;32mif\u001b[0m \u001b[0mself\u001b[0m\u001b[1;33m.\u001b[0m\u001b[0m_info_axis\u001b[0m\u001b[1;33m.\u001b[0m\u001b[0m_can_hold_identifiers_and_holds_name\u001b[0m\u001b[1;33m(\u001b[0m\u001b[0mname\u001b[0m\u001b[1;33m)\u001b[0m\u001b[1;33m:\u001b[0m\u001b[1;33m\u001b[0m\u001b[1;33m\u001b[0m\u001b[0m\n\u001b[0;32m   5178\u001b[0m                 \u001b[1;32mreturn\u001b[0m \u001b[0mself\u001b[0m\u001b[1;33m[\u001b[0m\u001b[0mname\u001b[0m\u001b[1;33m]\u001b[0m\u001b[1;33m\u001b[0m\u001b[1;33m\u001b[0m\u001b[0m\n\u001b[1;32m-> 5179\u001b[1;33m             \u001b[1;32mreturn\u001b[0m \u001b[0mobject\u001b[0m\u001b[1;33m.\u001b[0m\u001b[0m__getattribute__\u001b[0m\u001b[1;33m(\u001b[0m\u001b[0mself\u001b[0m\u001b[1;33m,\u001b[0m \u001b[0mname\u001b[0m\u001b[1;33m)\u001b[0m\u001b[1;33m\u001b[0m\u001b[1;33m\u001b[0m\u001b[0m\n\u001b[0m\u001b[0;32m   5180\u001b[0m \u001b[1;33m\u001b[0m\u001b[0m\n\u001b[0;32m   5181\u001b[0m     \u001b[1;32mdef\u001b[0m \u001b[0m__setattr__\u001b[0m\u001b[1;33m(\u001b[0m\u001b[0mself\u001b[0m\u001b[1;33m,\u001b[0m \u001b[0mname\u001b[0m\u001b[1;33m,\u001b[0m \u001b[0mvalue\u001b[0m\u001b[1;33m)\u001b[0m\u001b[1;33m:\u001b[0m\u001b[1;33m\u001b[0m\u001b[1;33m\u001b[0m\u001b[0m\n",
      "\u001b[1;31mAttributeError\u001b[0m: 'DataFrame' object has no attribute 'date'"
     ]
    }
   ],
   "source": [
    "# new = data.iloc[: , [0, 6, 7]].copy() \n",
    "# newdata = pd.Series([data.date, data.adult_icu_crci_patients, data.total_adult_icu_patients, data.ped_icu_crci_patients, data.total_ped_icu_patients]).transpose()\n"
   ]
  },
  {
   "cell_type": "code",
   "execution_count": 10,
   "metadata": {},
   "outputs": [],
   "source": [
    "# plt.plot(data[0:655]['adult_icu_crci_patients''available_adult_icu_beds''total_adult_icu_patients'])\n",
    "# plt.xticks(rotation = 30)\n",
    "# plt.show()"
   ]
  },
  {
   "cell_type": "code",
   "execution_count": 44,
   "metadata": {},
   "outputs": [
    {
     "data": {
      "text/plain": [
       "pandas.core.frame.DataFrame"
      ]
     },
     "execution_count": 44,
     "metadata": {},
     "output_type": "execute_result"
    }
   ],
   "source": [
    "adultcrit = pd.DataFrame(data, columns=['adult_icu_crci_patients'])\n",
    "adultcrit.head()\n",
    "type(adultcrit)"
   ]
  },
  {
   "cell_type": "code",
   "execution_count": 11,
   "metadata": {},
   "outputs": [],
   "source": [
    "\n",
    "# Code\n",
    "# import pandas as pd\n",
    "# from pandas import read_csv\n",
    "# from patsy import dmatrices\n",
    "# import numpy as np\n",
    "# import matplotlib.pyplot as plt\n",
    "# from sklearn.model_selection import train_test_split\n",
    "# import statsmodels.discrete.discrete_model as sm\n",
    "# from pylab import rcParams\n",
    "# rcParams['figure.figsize'] = 20, 5\n",
    "# #filepath =\"C:\\Users\\Jneny\\Desktop\\820\\datasets\\icu_beds.csv\"\n",
    "# #dataset = pd.read_csv(filepath, header = 0, sep=\",\" )\n",
    "# ​\n",
    "# data = read_csv(r\"C:\\Users\\Jneny\\Desktop\\820\\datasets\\icu_beds.csv\", header=0, parse_dates=[0], index_col=0, squeeze=True)\n",
    "# print(type(data))\n",
    "# data.info()\n",
    "# #data.describe()\n",
    "# data.head()\n",
    "# #for x in data[]:\n",
    "    \n",
    "    \n",
    "# data.describe(data['adult_icu_crci_patients'])\n",
    "# plt.plot(data[0:655]['adult_icu_crci_patients'])\n",
    "# plt.xticks(rotation = 30)\n",
    "# plt.show()\n",
    "\n",
    "# ​\n"
   ]
  },
  {
   "cell_type": "code",
   "execution_count": null,
   "metadata": {},
   "outputs": [],
   "source": []
  }
 ],
 "metadata": {
  "kernelspec": {
   "display_name": "Python 3",
   "language": "python",
   "name": "python3"
  },
  "language_info": {
   "codemirror_mode": {
    "name": "ipython",
    "version": 3
   },
   "file_extension": ".py",
   "mimetype": "text/x-python",
   "name": "python",
   "nbconvert_exporter": "python",
   "pygments_lexer": "ipython3",
   "version": "3.7.4"
  }
 },
 "nbformat": 4,
 "nbformat_minor": 2
}
