{
  "cells": [
    {
      "cell_type": "code",
      "execution_count": 1,
      "metadata": {
        "id": "yCtMFPU4kz69"
      },
      "outputs": [],
      "source": [
        "import numpy as np\n",
        "import matplotlib.pyplot as plt\n",
        "import pandas as pd\n",
        "from pandas import read_csv\n",
        "import math"
      ]
    },
    {
      "cell_type": "code",
      "execution_count": 2,
      "metadata": {
        "id": "uxcItdxalbkc"
      },
      "outputs": [],
      "source": [
        "url = 'https://raw.githubusercontent.com/Jneny/Hospitalcapacity/main/Data/icu_beds.csv'\n",
        "data = read_csv(url, header=0, parse_dates=[0], index_col=0)\n",
        "data = data.asfreq('d')\n",
        "adultcrit = pd.DataFrame(data, columns=['adult_icu_crci_patients'])\n",
        "sadultcrit = pd.Series(adultcrit.adult_icu_crci_patients)"
      ]
    },
    {
      "cell_type": "code",
      "execution_count": 3,
      "metadata": {
        "id": "Pb5PHoPzlfme"
      },
      "outputs": [],
      "source": [
        "from keras.models import Sequential\n",
        "from keras.layers import Dense\n",
        "from sklearn.preprocessing import MinMaxScaler\n",
        "from sklearn.metrics import mean_squared_error"
      ]
    },
    {
      "cell_type": "code",
      "execution_count": 4,
      "metadata": {
        "id": "BbpdWsgvUVWr"
      },
      "outputs": [],
      "source": [
        "#Convert pandas dataframe to numpy array\n",
        "dataset = adultcrit.values\n",
        "# dataset.dtype\n",
        "dataset = dataset.astype('float32') #Convert values to float"
      ]
    },
    {
      "cell_type": "code",
      "execution_count": 5,
      "metadata": {
        "id": "rbzrhqj8Uewp"
      },
      "outputs": [],
      "source": [
        "# normalize the dataset\n",
        "scaler = MinMaxScaler(feature_range=(0, 1)) #Also try QuantileTransformer\n",
        "dataset = scaler.fit_transform(dataset)"
      ]
    },
    {
      "cell_type": "code",
      "execution_count": 6,
      "metadata": {
        "id": "Pq4UAkqiUfZq"
      },
      "outputs": [],
      "source": [
        "# len(dataset) = 655, want to predict last month or last 4 weeks = 655- (7*4) = 627\n",
        "train, test = dataset[:571], dataset[571:]"
      ]
    },
    {
      "cell_type": "code",
      "execution_count": 7,
      "metadata": {
        "id": "70cjlO12Vwic"
      },
      "outputs": [],
      "source": [
        "def to_sequences(dataset, seq_size=1):\n",
        "    x = []\n",
        "    y = []\n",
        "\n",
        "    for i in range(len(dataset)-seq_size-1):\n",
        "        #print(i)\n",
        "        window = dataset[i:(i+seq_size), 0]\n",
        "        x.append(window)\n",
        "        y.append(dataset[i+seq_size, 0])\n",
        "        \n",
        "    return np.array(x),np.array(y)"
      ]
    },
    {
      "cell_type": "code",
      "execution_count": 8,
      "metadata": {
        "id": "TWV0flroWgUn"
      },
      "outputs": [],
      "source": [
        "#input size first week then predict the next\n",
        "seq_size = 7 \n",
        "#Larger sequences (look further back) may improve forecasting.\n",
        "trainX, trainY = to_sequences(train, seq_size)\n",
        "testX, testY = to_sequences(test, seq_size)"
      ]
    },
    {
      "cell_type": "code",
      "execution_count": 9,
      "metadata": {
        "colab": {
          "base_uri": "https://localhost:8080/"
        },
        "id": "heettq7OXBLW",
        "outputId": "bbc2c022-259f-4a0d-9a0c-38f75f0cdf23"
      },
      "outputs": [
        {
          "output_type": "stream",
          "name": "stdout",
          "text": [
            "Shape of training set: (563, 7)\n",
            "Shape of test set: (76, 7)\n"
          ]
        }
      ],
      "source": [
        "print(\"Shape of training set: {}\".format(trainX.shape))\n",
        "print(\"Shape of test set: {}\".format(testX.shape))"
      ]
    },
    {
      "cell_type": "code",
      "execution_count": 10,
      "metadata": {
        "colab": {
          "base_uri": "https://localhost:8080/"
        },
        "id": "kW5HuO2uXGMC",
        "outputId": "00c21f84-8e5c-4079-d6f7-585a51202d77"
      },
      "outputs": [
        {
          "output_type": "stream",
          "name": "stdout",
          "text": [
            "Build deep model...\n",
            "Model: \"sequential\"\n",
            "_________________________________________________________________\n",
            " Layer (type)                Output Shape              Param #   \n",
            "=================================================================\n",
            " dense (Dense)               (None, 64)                512       \n",
            "                                                                 \n",
            " dense_1 (Dense)             (None, 32)                2080      \n",
            "                                                                 \n",
            " dense_2 (Dense)             (None, 1)                 33        \n",
            "                                                                 \n",
            "=================================================================\n",
            "Total params: 2,625\n",
            "Trainable params: 2,625\n",
            "Non-trainable params: 0\n",
            "_________________________________________________________________\n",
            "None\n"
          ]
        }
      ],
      "source": [
        "print('Build deep model...')\n",
        "# create and fit dense model\n",
        "model = Sequential()\n",
        "model.add(Dense(64, input_dim=seq_size, activation='relu')) #12\n",
        "model.add(Dense(32, activation='relu'))  #8\n",
        "model.add(Dense(1)) # y value\n",
        "model.compile(loss='mean_squared_error', optimizer='adam', metrics = ['acc'])\n",
        "print(model.summary()) "
      ]
    },
    {
      "cell_type": "code",
      "execution_count": 11,
      "metadata": {
        "colab": {
          "base_uri": "https://localhost:8080/"
        },
        "id": "xitDvOLaXQGN",
        "outputId": "a6fbe5a0-e137-4cb5-9000-d54e9f6a4281"
      },
      "outputs": [
        {
          "output_type": "stream",
          "name": "stdout",
          "text": [
            "Epoch 1/20\n",
            "18/18 - 2s - loss: 0.1422 - acc: 0.0018 - val_loss: 0.0379 - val_acc: 0.0000e+00 - 2s/epoch - 97ms/step\n",
            "Epoch 2/20\n",
            "18/18 - 0s - loss: 0.0079 - acc: 0.0036 - val_loss: 0.0038 - val_acc: 0.0000e+00 - 109ms/epoch - 6ms/step\n",
            "Epoch 3/20\n",
            "18/18 - 0s - loss: 0.0013 - acc: 0.0036 - val_loss: 0.0037 - val_acc: 0.0000e+00 - 100ms/epoch - 6ms/step\n",
            "Epoch 4/20\n",
            "18/18 - 0s - loss: 0.0010 - acc: 0.0036 - val_loss: 0.0033 - val_acc: 0.0000e+00 - 148ms/epoch - 8ms/step\n",
            "Epoch 5/20\n",
            "18/18 - 0s - loss: 8.5141e-04 - acc: 0.0036 - val_loss: 0.0030 - val_acc: 0.0000e+00 - 118ms/epoch - 7ms/step\n",
            "Epoch 6/20\n",
            "18/18 - 0s - loss: 7.5946e-04 - acc: 0.0036 - val_loss: 0.0029 - val_acc: 0.0000e+00 - 140ms/epoch - 8ms/step\n",
            "Epoch 7/20\n",
            "18/18 - 0s - loss: 6.6962e-04 - acc: 0.0036 - val_loss: 0.0026 - val_acc: 0.0000e+00 - 151ms/epoch - 8ms/step\n",
            "Epoch 8/20\n",
            "18/18 - 0s - loss: 5.8423e-04 - acc: 0.0036 - val_loss: 0.0021 - val_acc: 0.0000e+00 - 134ms/epoch - 7ms/step\n",
            "Epoch 9/20\n",
            "18/18 - 0s - loss: 5.1912e-04 - acc: 0.0036 - val_loss: 0.0019 - val_acc: 0.0000e+00 - 112ms/epoch - 6ms/step\n",
            "Epoch 10/20\n",
            "18/18 - 0s - loss: 4.4694e-04 - acc: 0.0036 - val_loss: 0.0017 - val_acc: 0.0000e+00 - 109ms/epoch - 6ms/step\n",
            "Epoch 11/20\n",
            "18/18 - 0s - loss: 3.8704e-04 - acc: 0.0036 - val_loss: 0.0015 - val_acc: 0.0000e+00 - 103ms/epoch - 6ms/step\n",
            "Epoch 12/20\n",
            "18/18 - 0s - loss: 3.4295e-04 - acc: 0.0036 - val_loss: 0.0015 - val_acc: 0.0000e+00 - 149ms/epoch - 8ms/step\n",
            "Epoch 13/20\n",
            "18/18 - 0s - loss: 3.3327e-04 - acc: 0.0036 - val_loss: 0.0011 - val_acc: 0.0000e+00 - 153ms/epoch - 8ms/step\n",
            "Epoch 14/20\n",
            "18/18 - 0s - loss: 3.0527e-04 - acc: 0.0036 - val_loss: 9.3465e-04 - val_acc: 0.0000e+00 - 115ms/epoch - 6ms/step\n",
            "Epoch 15/20\n",
            "18/18 - 0s - loss: 2.5325e-04 - acc: 0.0036 - val_loss: 8.3894e-04 - val_acc: 0.0000e+00 - 112ms/epoch - 6ms/step\n",
            "Epoch 16/20\n",
            "18/18 - 0s - loss: 2.1427e-04 - acc: 0.0036 - val_loss: 7.3255e-04 - val_acc: 0.0000e+00 - 139ms/epoch - 8ms/step\n",
            "Epoch 17/20\n",
            "18/18 - 0s - loss: 1.8670e-04 - acc: 0.0036 - val_loss: 6.4762e-04 - val_acc: 0.0000e+00 - 83ms/epoch - 5ms/step\n",
            "Epoch 18/20\n",
            "18/18 - 0s - loss: 1.6747e-04 - acc: 0.0036 - val_loss: 5.6382e-04 - val_acc: 0.0000e+00 - 102ms/epoch - 6ms/step\n",
            "Epoch 19/20\n",
            "18/18 - 0s - loss: 1.8916e-04 - acc: 0.0036 - val_loss: 5.9840e-04 - val_acc: 0.0000e+00 - 137ms/epoch - 8ms/step\n",
            "Epoch 20/20\n",
            "18/18 - 0s - loss: 1.4422e-04 - acc: 0.0036 - val_loss: 4.4577e-04 - val_acc: 0.0000e+00 - 131ms/epoch - 7ms/step\n"
          ]
        },
        {
          "output_type": "execute_result",
          "data": {
            "text/plain": [
              "<keras.callbacks.History at 0x7f0d037bed50>"
            ]
          },
          "metadata": {},
          "execution_count": 11
        }
      ],
      "source": [
        "model.fit(trainX, trainY, validation_data=(testX, testY),\n",
        "          verbose=2, epochs=20)\n"
      ]
    },
    {
      "cell_type": "code",
      "execution_count": 12,
      "metadata": {
        "id": "aoqodGtIYBkA"
      },
      "outputs": [],
      "source": [
        "trainPredict = model.predict(trainX)\n",
        "testPredict = model.predict(testX)"
      ]
    },
    {
      "cell_type": "code",
      "execution_count": 13,
      "metadata": {
        "id": "22naiN40YJw0"
      },
      "outputs": [],
      "source": [
        "# Estimate model performance\n",
        "#SInce we used minmaxscaler we can now use scaler.inverse_transform\n",
        "#to invert the transformation.\n",
        "\n",
        "trainPredict = scaler.inverse_transform(trainPredict)\n",
        "trainY_inverse = scaler.inverse_transform([trainY])\n",
        "testPredict = scaler.inverse_transform(testPredict)\n",
        "testY_inverse = scaler.inverse_transform([testY])\n"
      ]
    },
    {
      "cell_type": "code",
      "execution_count": 14,
      "metadata": {
        "colab": {
          "base_uri": "https://localhost:8080/"
        },
        "id": "cocYTiVHMM2x",
        "outputId": "245d9f39-4498-4b15-f2a2-1e2a0c822ac2"
      },
      "outputs": [
        {
          "output_type": "stream",
          "name": "stdout",
          "text": [
            "4.456400047951194\n",
            "4.456400047951194\n"
          ]
        }
      ],
      "source": [
        "def MAPE(Y_actual,Y_Predicted):\n",
        "    mape = np.mean(np.abs((Y_actual - Y_Predicted)/Y_actual))*100\n",
        "    return mape\n",
        "print(MAPE(testY_inverse[0], testPredict[:,0]))\n",
        "print(MAPE(testY_inverse[0], testPredict[:,0]))"
      ]
    },
    {
      "cell_type": "code",
      "execution_count": 22,
      "metadata": {
        "colab": {
          "base_uri": "https://localhost:8080/"
        },
        "id": "oXaFiVFDYP2U",
        "outputId": "b444edf4-2957-498a-91a0-e65abe06990a"
      },
      "outputs": [
        {
          "output_type": "stream",
          "name": "stdout",
          "text": [
            "Train Score: 9.827 RMSE\n",
            "Test Score: 18.390 RMSE\n"
          ]
        }
      ],
      "source": [
        "# calculate root mean squared error\n",
        "trainScore = math.sqrt(mean_squared_error(trainY_inverse[0], trainPredict[:,0]))\n",
        "print('Train Score: %.3f RMSE' % (trainScore))\n",
        "\n",
        "testScore = math.sqrt(mean_squared_error(testY_inverse[0], testPredict[:,0]))\n",
        "print('Test Score: %.3f RMSE' % (testScore))\n"
      ]
    },
    {
      "cell_type": "code",
      "source": [
        "def mape(actual, pred): \n",
        "    actual, pred = np.array(actual), np.array(pred)\n",
        "    return np.mean(np.abs((actual - pred) / actual)) * 100\n",
        "mape(testY_inverse[0], testPredict[:,0])"
      ],
      "metadata": {
        "colab": {
          "base_uri": "https://localhost:8080/"
        },
        "id": "IorJ8mzjOLvB",
        "outputId": "bcf4a43e-d183-4ab9-fe41-a6e041be0f80"
      },
      "execution_count": 21,
      "outputs": [
        {
          "output_type": "execute_result",
          "data": {
            "text/plain": [
              "4.456400047951194"
            ]
          },
          "metadata": {},
          "execution_count": 21
        }
      ]
    },
    {
      "cell_type": "code",
      "execution_count": 16,
      "metadata": {
        "id": "zGLEaR-xYT-8"
      },
      "outputs": [],
      "source": [
        "# shift train predictions for plotting\n",
        "#we must shift the predictions so that they align on the x-axis with the original dataset. \n",
        "trainPredictPlot = np.empty_like(dataset)\n",
        "trainPredictPlot[:, :] = np.nan\n",
        "trainPredictPlot[seq_size:len(trainPredict)+seq_size, :] = trainPredict\n"
      ]
    },
    {
      "cell_type": "code",
      "execution_count": 17,
      "metadata": {
        "id": "aqQsD1tiYZfG"
      },
      "outputs": [],
      "source": [
        "# shift test predictions for plotting\n",
        "testPredictPlot = np.empty_like(dataset)\n",
        "testPredictPlot[:, :] = np.nan\n",
        "testPredictPlot[len(trainPredict)+(seq_size*2)+1:len(dataset)-1, :] = testPredict"
      ]
    },
    {
      "cell_type": "code",
      "execution_count": 18,
      "metadata": {
        "colab": {
          "base_uri": "https://localhost:8080/",
          "height": 265
        },
        "id": "EIE4BHGiYbpF",
        "outputId": "416c8d2e-c42a-4d74-c63b-2e0391cc44de"
      },
      "outputs": [
        {
          "output_type": "display_data",
          "data": {
            "text/plain": [
              "<Figure size 432x288 with 1 Axes>"
            ],
            "image/png": "[encoded data removed]"
          },
          "metadata": {
            "needs_background": "light"
          }
        }
      ],
      "source": [
        "# plot baseline and predictions\n",
        "plt.plot(scaler.inverse_transform(dataset))\n",
        "plt.plot(trainPredictPlot)\n",
        "plt.plot(testPredictPlot, color = 'r')\n",
        "plt.show()"
      ]
    },
    {
      "cell_type": "code",
      "execution_count": 18,
      "metadata": {
        "id": "PhvRbwMHYdt_"
      },
      "outputs": [],
      "source": [
        ""
      ]
    },
    {
      "cell_type": "code",
      "execution_count": 18,
      "metadata": {
        "id": "PMa--LSkMvl_"
      },
      "outputs": [],
      "source": [
        ""
      ]
    }
  ],
  "metadata": {
    "colab": {
      "collapsed_sections": [],
      "name": "Last Quarter Feed Forward NN.ipynb",
      "provenance": []
    },
    "kernelspec": {
      "display_name": "Python 3 (ipykernel)",
      "language": "python",
      "name": "python3"
    },
    "language_info": {
      "codemirror_mode": {
        "name": "ipython",
        "version": 3
      },
      "file_extension": ".py",
      "mimetype": "text/x-python",
      "name": "python",
      "nbconvert_exporter": "python",
      "pygments_lexer": "ipython3",
      "version": "3.10.3"
    }
  },
  "nbformat": 4,
  "nbformat_minor": 0
}