{
  "cells": [
    {
      "cell_type": "code",
      "execution_count": 18,
      "id": "cea7713c",
      "metadata": {
        "id": "cea7713c"
      },
      "outputs": [],
      "source": [
        "import tensorflow as tf\n",
        "import os\n",
        "import pandas as pd\n",
        "import numpy as np\n",
        "from pandas import read_csv"
      ]
    },
    {
      "cell_type": "code",
      "execution_count": 19,
      "id": "740d7d6c",
      "metadata": {
        "id": "740d7d6c"
      },
      "outputs": [],
      "source": [
        "url = 'https://raw.githubusercontent.com/Jneny/Hospitalcapacity/main/Data/icu_beds.csv'\n",
        "data = read_csv(url, header=0, parse_dates=[0], index_col=0)\n",
        "data = data.asfreq('d')\n",
        "adultcrit = pd.DataFrame(data, columns=['adult_icu_crci_patients'])\n",
        "sadultcrit = pd.Series(adultcrit.adult_icu_crci_patients)"
      ]
    },
    {
      "cell_type": "code",
      "source": [
        "len(adultcrit)"
      ],
      "metadata": {
        "id": "md23401NHIvm",
        "outputId": "ed50e484-086d-4981-b2c4-3e977a0a4e0c",
        "colab": {
          "base_uri": "https://localhost:8080/"
        }
      },
      "id": "md23401NHIvm",
      "execution_count": 78,
      "outputs": [
        {
          "output_type": "execute_result",
          "data": {
            "text/plain": [
              "655"
            ]
          },
          "metadata": {},
          "execution_count": 78
        }
      ]
    },
    {
      "cell_type": "code",
      "execution_count": 77,
      "id": "f033d94c",
      "metadata": {
        "id": "f033d94c"
      },
      "outputs": [],
      "source": [
        "adtrain = adultcrit.iloc[:571]\n",
        "adtest = adultcrit.iloc[571:]"
      ]
    },
    {
      "cell_type": "code",
      "execution_count": 51,
      "id": "3677091b",
      "metadata": {
        "id": "3677091b"
      },
      "outputs": [],
      "source": [
        "#from statsmodels.tsa.seasonal import seasonal_decompose"
      ]
    },
    {
      "cell_type": "code",
      "execution_count": 52,
      "id": "d387e79f",
      "metadata": {
        "id": "d387e79f"
      },
      "outputs": [],
      "source": [
        "from sklearn.preprocessing import MinMaxScaler\n",
        "scaler = MinMaxScaler()\n",
        "#convert dataset to scale of 0 to 1/ normalize because do not want magnitude to get confused due to different ranges of magnitude"
      ]
    },
    {
      "cell_type": "code",
      "execution_count": 53,
      "id": "5b120936",
      "metadata": {
        "id": "5b120936"
      },
      "outputs": [],
      "source": [
        "scaler.fit(adtrain)\n",
        "scaled_train = scaler.transform(adtrain)\n",
        "scaled_test = scaler.transform(adtest)"
      ]
    },
    {
      "cell_type": "code",
      "execution_count": 54,
      "id": "97006f29",
      "metadata": {
        "id": "97006f29"
      },
      "outputs": [],
      "source": [
        "from keras.preprocessing.sequence import TimeseriesGenerator"
      ]
    },
    {
      "cell_type": "code",
      "execution_count": 55,
      "id": "b015c970",
      "metadata": {
        "id": "b015c970"
      },
      "outputs": [],
      "source": [
        "#Using 7days/ 1 week as input to predict the next day"
      ]
    },
    {
      "cell_type": "code",
      "execution_count": 56,
      "id": "e7e88052",
      "metadata": {
        "id": "e7e88052"
      },
      "outputs": [],
      "source": [
        "#Define generator, feeding input as one week then predict next day (input 7 days for 8th day output)\n",
        "#feeding values to NN to create batches to predict next time range\n",
        "n_input = 7\n",
        "n_features = 1\n",
        "generator = TimeseriesGenerator(scaled_train, scaled_train, length=n_input, batch_size =1)"
      ]
    },
    {
      "cell_type": "code",
      "execution_count": 57,
      "id": "fd007b22",
      "metadata": {
        "id": "fd007b22",
        "outputId": "48c2a365-18c4-439e-a5a3-e8743b4155a1",
        "colab": {
          "base_uri": "https://localhost:8080/"
        }
      },
      "outputs": [
        {
          "output_type": "stream",
          "name": "stdout",
          "text": [
            "Given the Arrary: \n",
            "[0.25947187 0.25028703 0.26176808 0.25832377 0.25832377 0.25487945\n",
            " 0.24799082]\n",
            "Predict this y: \n",
            " [[0.24339839]]\n"
          ]
        }
      ],
      "source": [
        "X,y = generator[0]\n",
        "print(f'Given the Arrary: \\n{X.flatten()}')\n",
        "print(f'Predict this y: \\n {y}')"
      ]
    },
    {
      "cell_type": "code",
      "execution_count": 58,
      "id": "03679816",
      "metadata": {
        "id": "03679816",
        "outputId": "0bae6570-32ef-47b2-a27a-c627d468921d",
        "colab": {
          "base_uri": "https://localhost:8080/"
        }
      },
      "outputs": [
        {
          "output_type": "execute_result",
          "data": {
            "text/plain": [
              "(1, 7, 1)"
            ]
          },
          "metadata": {},
          "execution_count": 58
        }
      ],
      "source": [
        "X.shape"
      ]
    },
    {
      "cell_type": "code",
      "execution_count": 59,
      "id": "35a1cd8f",
      "metadata": {
        "id": "35a1cd8f"
      },
      "outputs": [],
      "source": [
        "from keras.models import Sequential\n",
        "from keras.layers.core import Dense\n",
        "from keras.layers import LSTM"
      ]
    },
    {
      "cell_type": "code",
      "execution_count": 60,
      "id": "10b4e1c0",
      "metadata": {
        "id": "10b4e1c0"
      },
      "outputs": [],
      "source": [
        "# Define model\n",
        "model = Sequential()\n",
        "model.add(LSTM(100, activation='relu', input_shape=(n_input, n_features)))\n",
        "model.add(Dense(1))\n",
        "model.compile(optimizer='adam', loss = 'mse')"
      ]
    },
    {
      "cell_type": "code",
      "execution_count": 61,
      "id": "4ac66d47",
      "metadata": {
        "id": "4ac66d47",
        "outputId": "be73d3bb-b21a-4635-ff47-816235215e58",
        "colab": {
          "base_uri": "https://localhost:8080/"
        }
      },
      "outputs": [
        {
          "output_type": "stream",
          "name": "stdout",
          "text": [
            "Model: \"sequential_2\"\n",
            "_________________________________________________________________\n",
            " Layer (type)                Output Shape              Param #   \n",
            "=================================================================\n",
            " lstm_2 (LSTM)               (None, 100)               40800     \n",
            "                                                                 \n",
            " dense_2 (Dense)             (None, 1)                 101       \n",
            "                                                                 \n",
            "=================================================================\n",
            "Total params: 40,901\n",
            "Trainable params: 40,901\n",
            "Non-trainable params: 0\n",
            "_________________________________________________________________\n"
          ]
        }
      ],
      "source": [
        "model.summary()"
      ]
    },
    {
      "cell_type": "code",
      "execution_count": 62,
      "id": "244e6174",
      "metadata": {
        "id": "244e6174"
      },
      "outputs": [],
      "source": [
        "# from tensorflow.keras.callbacks import EarlyStopping\n",
        "# early_stopping = EarlyStopping()"
      ]
    },
    {
      "cell_type": "code",
      "execution_count": 63,
      "id": "aa314880",
      "metadata": {
        "id": "aa314880",
        "outputId": "c75d2da9-b445-4036-cde2-d4693e599423",
        "colab": {
          "base_uri": "https://localhost:8080/"
        }
      },
      "outputs": [
        {
          "output_type": "stream",
          "name": "stdout",
          "text": [
            "Epoch 1/20\n",
            "564/564 [==============================] - 3s 4ms/step - loss: 0.0070\n",
            "Epoch 2/20\n",
            "564/564 [==============================] - 2s 4ms/step - loss: 0.0012\n",
            "Epoch 3/20\n",
            "564/564 [==============================] - 2s 4ms/step - loss: 8.7577e-04\n",
            "Epoch 4/20\n",
            "564/564 [==============================] - 2s 4ms/step - loss: 6.9725e-04\n",
            "Epoch 5/20\n",
            "564/564 [==============================] - 2s 4ms/step - loss: 5.6630e-04\n",
            "Epoch 6/20\n",
            "564/564 [==============================] - 2s 4ms/step - loss: 4.2179e-04\n",
            "Epoch 7/20\n",
            "564/564 [==============================] - 2s 4ms/step - loss: 4.2942e-04\n",
            "Epoch 8/20\n",
            "564/564 [==============================] - 2s 4ms/step - loss: 4.1827e-04\n",
            "Epoch 9/20\n",
            "564/564 [==============================] - 2s 4ms/step - loss: 5.7661e-04\n",
            "Epoch 10/20\n",
            "564/564 [==============================] - 2s 4ms/step - loss: 3.8442e-04\n",
            "Epoch 11/20\n",
            "564/564 [==============================] - 2s 4ms/step - loss: 2.4140e-04\n",
            "Epoch 12/20\n",
            "564/564 [==============================] - 2s 4ms/step - loss: 2.1516e-04\n",
            "Epoch 13/20\n",
            "564/564 [==============================] - 2s 4ms/step - loss: 2.5345e-04\n",
            "Epoch 14/20\n",
            "564/564 [==============================] - 2s 4ms/step - loss: 2.3291e-04\n",
            "Epoch 15/20\n",
            "564/564 [==============================] - 2s 4ms/step - loss: 2.0184e-04\n",
            "Epoch 16/20\n",
            "564/564 [==============================] - 2s 4ms/step - loss: 1.7882e-04\n",
            "Epoch 17/20\n",
            "564/564 [==============================] - 2s 4ms/step - loss: 3.2521e-04\n",
            "Epoch 18/20\n",
            "564/564 [==============================] - 2s 4ms/step - loss: 1.6406e-04\n",
            "Epoch 19/20\n",
            "564/564 [==============================] - 2s 4ms/step - loss: 1.8370e-04\n",
            "Epoch 20/20\n",
            "564/564 [==============================] - 2s 4ms/step - loss: 1.5981e-04\n"
          ]
        },
        {
          "output_type": "execute_result",
          "data": {
            "text/plain": [
              "<keras.callbacks.History at 0x7f84b7999e50>"
            ]
          },
          "metadata": {},
          "execution_count": 63
        }
      ],
      "source": [
        "#fit model\n",
        "model.fit(generator, epochs=20)\n",
        "\n",
        "# es = EarlyStopping(monitor='val_loss', mode='min', verbose=1)\n",
        "# model.fit(generator, epochs=30, callbacks=[early_stopping], )"
      ]
    },
    {
      "cell_type": "code",
      "execution_count": 64,
      "id": "58d5a2a0",
      "metadata": {
        "id": "58d5a2a0"
      },
      "outputs": [],
      "source": [
        "import matplotlib.pyplot as plt"
      ]
    },
    {
      "cell_type": "code",
      "execution_count": 65,
      "id": "aa1f76bf",
      "metadata": {
        "scrolled": true,
        "id": "aa1f76bf",
        "outputId": "16346d11-7008-420c-bc5c-c3175b96ffa1",
        "colab": {
          "base_uri": "https://localhost:8080/",
          "height": 282
        }
      },
      "outputs": [
        {
          "output_type": "execute_result",
          "data": {
            "text/plain": [
              "[<matplotlib.lines.Line2D at 0x7f84b763c350>]"
            ]
          },
          "metadata": {},
          "execution_count": 65
        },
        {
          "output_type": "display_data",
          "data": {
            "text/plain": [
              "<Figure size 432x288 with 1 Axes>"
            ],
            "image/png": "[encoded data removed]"
          },
          "metadata": {
            "needs_background": "light"
          }
        }
      ],
      "source": [
        "#plot loss to see when is good to stop epochs\n",
        "loss_per_epoch = model.history.history['loss']\n",
        "plt.plot(range(len(loss_per_epoch)), loss_per_epoch)"
      ]
    },
    {
      "cell_type": "code",
      "execution_count": 67,
      "id": "33f46e41",
      "metadata": {
        "id": "33f46e41"
      },
      "outputs": [],
      "source": [
        "#formatting input so that using the last 30 of train to start prediction on first day of test set which is the last 30 days\n",
        "# 30 doesn't work take last 7 days of train to make prediction on first day of test set\n",
        "last_train_batch = scaled_train[-7:]"
      ]
    },
    {
      "cell_type": "code",
      "execution_count": 68,
      "id": "933308e2",
      "metadata": {
        "id": "933308e2"
      },
      "outputs": [],
      "source": [
        "last_train_batch = last_train_batch.reshape((1, n_input, n_features))"
      ]
    },
    {
      "cell_type": "code",
      "execution_count": 69,
      "id": "4499a684",
      "metadata": {
        "id": "4499a684",
        "outputId": "c16accc0-ea01-417f-c184-f0bba499994a",
        "colab": {
          "base_uri": "https://localhost:8080/"
        }
      },
      "outputs": [
        {
          "output_type": "execute_result",
          "data": {
            "text/plain": [
              "array([[0.12857565]], dtype=float32)"
            ]
          },
          "metadata": {},
          "execution_count": 69
        }
      ],
      "source": [
        "model.predict(last_train_batch) # check first prediction of test vs actual"
      ]
    },
    {
      "cell_type": "code",
      "execution_count": 70,
      "id": "d9ae15fa",
      "metadata": {
        "id": "d9ae15fa",
        "outputId": "4c4e26a6-b011-4acc-9d8c-3ffd0307d958",
        "colab": {
          "base_uri": "https://localhost:8080/"
        }
      },
      "outputs": [
        {
          "output_type": "execute_result",
          "data": {
            "text/plain": [
              "array([0.13203215])"
            ]
          },
          "metadata": {},
          "execution_count": 70
        }
      ],
      "source": [
        "scaled_test[0]"
      ]
    },
    {
      "cell_type": "code",
      "execution_count": 71,
      "id": "68a05c77",
      "metadata": {
        "id": "68a05c77"
      },
      "outputs": [],
      "source": [
        "test_predictions = []\n",
        "\n",
        "first_eval_batch = scaled_train[-n_input:]\n",
        "current_batch = first_eval_batch.reshape((1, n_input, n_features))\n",
        "\n",
        "for i in range(len(adtest)):\n",
        "    \n",
        "    # get the prediction value for the first batch\n",
        "    current_pred = model.predict(current_batch)[0]\n",
        "    \n",
        "    # append the prediction into the array\n",
        "    test_predictions.append(current_pred) \n",
        "    \n",
        "    # use the prediction to update the batch and remove the first value\n",
        "    current_batch = np.append(current_batch[:,1:,:],[[current_pred]],axis=1)"
      ]
    },
    {
      "cell_type": "code",
      "execution_count": 72,
      "id": "b56b944f",
      "metadata": {
        "id": "b56b944f"
      },
      "outputs": [],
      "source": [
        "true_predictions = scaler.inverse_transform(test_predictions)"
      ]
    },
    {
      "cell_type": "code",
      "execution_count": 73,
      "id": "d08a4272",
      "metadata": {
        "id": "d08a4272",
        "outputId": "0a40107a-1f22-4e68-9200-f400d0f1ad75",
        "colab": {
          "base_uri": "https://localhost:8080/"
        }
      },
      "outputs": [
        {
          "output_type": "stream",
          "name": "stderr",
          "text": [
            "/usr/local/lib/python3.7/dist-packages/ipykernel_launcher.py:1: SettingWithCopyWarning: \n",
            "A value is trying to be set on a copy of a slice from a DataFrame.\n",
            "Try using .loc[row_indexer,col_indexer] = value instead\n",
            "\n",
            "See the caveats in the documentation: https://pandas.pydata.org/pandas-docs/stable/user_guide/indexing.html#returning-a-view-versus-a-copy\n",
            "  \"\"\"Entry point for launching an IPython kernel.\n"
          ]
        }
      ],
      "source": [
        "adtest['Predictions'] = true_predictions"
      ]
    },
    {
      "cell_type": "code",
      "execution_count": 74,
      "id": "71c1157a",
      "metadata": {
        "scrolled": true,
        "id": "71c1157a",
        "outputId": "d3e2e6c1-1ef4-4bce-af6d-4c1492ef88cf",
        "colab": {
          "base_uri": "https://localhost:8080/",
          "height": 387
        }
      },
      "outputs": [
        {
          "output_type": "execute_result",
          "data": {
            "text/plain": [
              "<matplotlib.axes._subplots.AxesSubplot at 0x7f84b75760d0>"
            ]
          },
          "metadata": {},
          "execution_count": 74
        },
        {
          "output_type": "display_data",
          "data": {
            "text/plain": [
              "<Figure size 1440x360 with 1 Axes>"
            ],
            "image/png": "[encoded data removed]"
          },
          "metadata": {
            "needs_background": "light"
          }
        }
      ],
      "source": [
        "adtest.plot(figsize=(20,5))"
      ]
    },
    {
      "cell_type": "code",
      "execution_count": 75,
      "id": "d7ccc83e",
      "metadata": {
        "id": "d7ccc83e",
        "outputId": "0d42a427-7ba6-48c0-e650-c3653b83521f",
        "colab": {
          "base_uri": "https://localhost:8080/"
        }
      },
      "outputs": [
        {
          "output_type": "stream",
          "name": "stdout",
          "text": [
            "324.70117816300467\n"
          ]
        }
      ],
      "source": [
        "# calculate root mean squared error\n",
        "from sklearn.metrics import mean_squared_error\n",
        "import math\n",
        "from math import sqrt\n",
        "rmse= math.sqrt(mean_squared_error(adtest['adult_icu_crci_patients'], adtest['Predictions']))\n",
        "print(rmse)"
      ]
    },
    {
      "cell_type": "code",
      "execution_count": 76,
      "id": "b7df3773",
      "metadata": {
        "id": "b7df3773",
        "outputId": "46e6aaf4-86ad-4f67-e75e-1463531dd625",
        "colab": {
          "base_uri": "https://localhost:8080/"
        }
      },
      "outputs": [
        {
          "output_type": "execute_result",
          "data": {
            "text/plain": [
              "61.30077977561895"
            ]
          },
          "metadata": {},
          "execution_count": 76
        }
      ],
      "source": [
        "# calculate mean absolute percentage error MAPE\n",
        "def mape(actual, pred): \n",
        "    actual, pred = np.array(actual), np.array(pred)\n",
        "    return np.mean(np.abs((actual - pred) / actual)) * 100\n",
        "mape(adtest['adult_icu_crci_patients'], adtest['Predictions'])"
      ]
    },
    {
      "cell_type": "code",
      "execution_count": 76,
      "id": "be87e970",
      "metadata": {
        "id": "be87e970"
      },
      "outputs": [],
      "source": [
        ""
      ]
    },
    {
      "cell_type": "code",
      "execution_count": 76,
      "id": "9f952c2a",
      "metadata": {
        "id": "9f952c2a"
      },
      "outputs": [],
      "source": [
        ""
      ]
    }
  ],
  "metadata": {
    "kernelspec": {
      "display_name": "Python 3 (ipykernel)",
      "language": "python",
      "name": "python3"
    },
    "language_info": {
      "codemirror_mode": {
        "name": "ipython",
        "version": 3
      },
      "file_extension": ".py",
      "mimetype": "text/x-python",
      "name": "python",
      "nbconvert_exporter": "python",
      "pygments_lexer": "ipython3",
      "version": "3.10.3"
    },
    "colab": {
      "name": "Last quarter LSTM Recurrent Neural Network.ipynb",
      "provenance": []
    }
  },
  "nbformat": 4,
  "nbformat_minor": 5
}