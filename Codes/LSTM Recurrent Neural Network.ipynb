{
 "cells": [
  {
   "cell_type": "code",
   "execution_count": 1,
   "id": "cea7713c",
   "metadata": {},
   "outputs": [],
   "source": [
    "import numpy as np\n",
    "import matplotlib.pyplot as plt\n",
    "import pandas as pd\n",
    "from pandas import read_csv"
   ]
  },
  {
   "cell_type": "code",
   "execution_count": 2,
   "id": "740d7d6c",
   "metadata": {},
   "outputs": [],
   "source": [
    "url = 'https://raw.githubusercontent.com/Jneny/Hospitalcapacity/main/Data/icu_beds.csv'\n",
    "data = read_csv(url, header=0, parse_dates=[0], index_col=0)\n",
    "data = data.asfreq('d')\n",
    "adultcrit = pd.DataFrame(data, columns=['adult_icu_crci_patients'])\n",
    "sadultcrit = pd.Series(adultcrit.adult_icu_crci_patients)"
   ]
  },
  {
   "cell_type": "code",
   "execution_count": 3,
   "id": "f033d94c",
   "metadata": {},
   "outputs": [],
   "source": [
    "size = int(len(adultcrit)*.8)\n",
    "adtrain = adultcrit.iloc[:size]\n",
    "adtest = adultcrit.iloc[size:]"
   ]
  },
  {
   "cell_type": "code",
   "execution_count": 4,
   "id": "3677091b",
   "metadata": {},
   "outputs": [],
   "source": [
    "#from statsmodels.tsa.seasonal import seasonal_decompose"
   ]
  },
  {
   "cell_type": "code",
   "execution_count": 14,
   "id": "d387e79f",
   "metadata": {},
   "outputs": [],
   "source": [
    "from sklearn.preprocessing import MinMaxScaler\n",
    "scaler = MinMaxScaler()\n",
    "#convert dataset to scale of 0 to 1/ normalize because do not want magnitude to get confused due to different ranges of magnitude"
   ]
  },
  {
   "cell_type": "code",
   "execution_count": 15,
   "id": "5b120936",
   "metadata": {},
   "outputs": [],
   "source": [
    "scaler.fit(adtrain)\n",
    "scaled_train = scaler.transform(adtrain)\n",
    "scaled_test = scaler.transform(adtest)"
   ]
  },
  {
   "cell_type": "code",
   "execution_count": 16,
   "id": "97006f29",
   "metadata": {},
   "outputs": [],
   "source": [
    "from keras.preprocessing.sequence import TimeseriesGenerator"
   ]
  },
  {
   "cell_type": "code",
   "execution_count": 17,
   "id": "e7e88052",
   "metadata": {},
   "outputs": [],
   "source": [
    "#Define generator\n",
    "#feeding values to NN to create batches to predict next time range\n",
    "n_input = 3\n",
    "n_features = 1\n",
    "generator = TimeseriesGenerator(scaled_train, scaled_train, length=n_input, batch_size =1)"
   ]
  },
  {
   "cell_type": "code",
   "execution_count": 18,
   "id": "fd007b22",
   "metadata": {},
   "outputs": [
    {
     "name": "stdout",
     "output_type": "stream",
     "text": [
      "Given the Arrary: \n",
      "[0.25947187 0.25028703 0.26176808]\n",
      "Predict this y: \n",
      " [[0.25832377]]\n"
     ]
    }
   ],
   "source": [
    "X,y = generator[0]\n",
    "print(f'Given the Arrary: \\n{X.flatten()}')\n",
    "print(f'Predict this y: \\n {y}')"
   ]
  },
  {
   "cell_type": "code",
   "execution_count": 19,
   "id": "03679816",
   "metadata": {},
   "outputs": [
    {
     "data": {
      "text/plain": [
       "(1, 3, 1)"
      ]
     },
     "execution_count": 19,
     "metadata": {},
     "output_type": "execute_result"
    }
   ],
   "source": [
    "X.shape"
   ]
  },
  {
   "cell_type": "code",
   "execution_count": 20,
   "id": "69afccfc",
   "metadata": {},
   "outputs": [],
   "source": [
    "#Do it for 12 months\n",
    "n_input = 12\n",
    "generator = TimeseriesGenerator(scaled_train, scaled_train, length=n_input, batch_size =1)"
   ]
  },
  {
   "cell_type": "code",
   "execution_count": 25,
   "id": "35a1cd8f",
   "metadata": {},
   "outputs": [],
   "source": [
    "from keras.models import Sequential\n",
    "from keras.layers.core import Dense\n",
    "from keras.layers import LSTM"
   ]
  },
  {
   "cell_type": "code",
   "execution_count": 27,
   "id": "10b4e1c0",
   "metadata": {},
   "outputs": [],
   "source": [
    "# Define model\n",
    "model = Sequential()\n",
    "model.add(LSTM(100, activation='relu', input_shape=(n_input, n_features)))\n",
    "model.add(Dense(1))\n",
    "model.compile(optimizer='adam', loss = 'mse')"
   ]
  },
  {
   "cell_type": "code",
   "execution_count": 28,
   "id": "4ac66d47",
   "metadata": {},
   "outputs": [
    {
     "name": "stdout",
     "output_type": "stream",
     "text": [
      "Model: \"sequential_1\"\n",
      "_________________________________________________________________\n",
      " Layer (type)                Output Shape              Param #   \n",
      "=================================================================\n",
      " lstm (LSTM)                 (None, 100)               40800     \n",
      "                                                                 \n",
      " dense (Dense)               (None, 1)                 101       \n",
      "                                                                 \n",
      "=================================================================\n",
      "Total params: 40,901\n",
      "Trainable params: 40,901\n",
      "Non-trainable params: 0\n",
      "_________________________________________________________________\n"
     ]
    }
   ],
   "source": [
    "model.summary()"
   ]
  },
  {
   "cell_type": "code",
   "execution_count": 29,
   "id": "aa314880",
   "metadata": {},
   "outputs": [
    {
     "name": "stdout",
     "output_type": "stream",
     "text": [
      "Epoch 1/50\n",
      "512/512 [==============================] - 3s 3ms/step - loss: 0.0041\n",
      "Epoch 2/50\n",
      "512/512 [==============================] - 2s 4ms/step - loss: 0.0011\n",
      "Epoch 3/50\n",
      "512/512 [==============================] - 2s 4ms/step - loss: 5.6076e-04\n",
      "Epoch 4/50\n",
      "512/512 [==============================] - 2s 3ms/step - loss: 4.7922e-04\n",
      "Epoch 5/50\n",
      "512/512 [==============================] - 2s 4ms/step - loss: 3.4126e-04\n",
      "Epoch 6/50\n",
      "512/512 [==============================] - 2s 4ms/step - loss: 4.2546e-04\n",
      "Epoch 7/50\n",
      "512/512 [==============================] - 2s 4ms/step - loss: 3.7031e-04\n",
      "Epoch 8/50\n",
      "512/512 [==============================] - 2s 4ms/step - loss: 2.8296e-04\n",
      "Epoch 9/50\n",
      "512/512 [==============================] - 2s 4ms/step - loss: 2.1888e-04\n",
      "Epoch 10/50\n",
      "512/512 [==============================] - 2s 4ms/step - loss: 2.9086e-04\n",
      "Epoch 11/50\n",
      "512/512 [==============================] - 2s 4ms/step - loss: 2.0701e-04\n",
      "Epoch 12/50\n",
      "512/512 [==============================] - 2s 4ms/step - loss: 2.1994e-04\n",
      "Epoch 13/50\n",
      "512/512 [==============================] - 2s 4ms/step - loss: 1.8559e-04\n",
      "Epoch 14/50\n",
      "512/512 [==============================] - 2s 4ms/step - loss: 2.9397e-04\n",
      "Epoch 15/50\n",
      "512/512 [==============================] - 2s 4ms/step - loss: 1.5424e-04\n",
      "Epoch 16/50\n",
      "512/512 [==============================] - 2s 4ms/step - loss: 1.7866e-04\n",
      "Epoch 17/50\n",
      "512/512 [==============================] - 2s 4ms/step - loss: 1.8649e-04\n",
      "Epoch 18/50\n",
      "512/512 [==============================] - 2s 4ms/step - loss: 1.8611e-04\n",
      "Epoch 19/50\n",
      "512/512 [==============================] - 2s 4ms/step - loss: 1.7383e-04\n",
      "Epoch 20/50\n",
      "512/512 [==============================] - 2s 4ms/step - loss: 1.9181e-04\n",
      "Epoch 21/50\n",
      "512/512 [==============================] - 2s 4ms/step - loss: 2.1293e-04\n",
      "Epoch 22/50\n",
      "512/512 [==============================] - 2s 4ms/step - loss: 1.5794e-04\n",
      "Epoch 23/50\n",
      "512/512 [==============================] - 2s 4ms/step - loss: 1.6525e-04\n",
      "Epoch 24/50\n",
      "512/512 [==============================] - 2s 4ms/step - loss: 1.5096e-04\n",
      "Epoch 25/50\n",
      "512/512 [==============================] - 2s 4ms/step - loss: 1.7936e-04\n",
      "Epoch 26/50\n",
      "512/512 [==============================] - 2s 4ms/step - loss: 1.1209e-04\n",
      "Epoch 27/50\n",
      "512/512 [==============================] - 2s 4ms/step - loss: 1.2975e-04\n",
      "Epoch 28/50\n",
      "512/512 [==============================] - 2s 4ms/step - loss: 1.1163e-04\n",
      "Epoch 29/50\n",
      "512/512 [==============================] - 2s 4ms/step - loss: 1.4219e-04\n",
      "Epoch 30/50\n",
      "512/512 [==============================] - 2s 4ms/step - loss: 1.3113e-04\n",
      "Epoch 31/50\n",
      "512/512 [==============================] - 2s 4ms/step - loss: 1.1313e-04\n",
      "Epoch 32/50\n",
      "512/512 [==============================] - 2s 4ms/step - loss: 1.3261e-04\n",
      "Epoch 33/50\n",
      "512/512 [==============================] - 2s 3ms/step - loss: 1.2954e-04\n",
      "Epoch 34/50\n",
      "512/512 [==============================] - 2s 3ms/step - loss: 1.6850e-04\n",
      "Epoch 35/50\n",
      "512/512 [==============================] - 2s 4ms/step - loss: 1.4981e-04\n",
      "Epoch 36/50\n",
      "512/512 [==============================] - 2s 3ms/step - loss: 1.2314e-04\n",
      "Epoch 37/50\n",
      "512/512 [==============================] - 2s 3ms/step - loss: 1.2684e-04\n",
      "Epoch 38/50\n",
      "512/512 [==============================] - 2s 3ms/step - loss: 1.4297e-04\n",
      "Epoch 39/50\n",
      "512/512 [==============================] - 2s 3ms/step - loss: 1.3696e-04\n",
      "Epoch 40/50\n",
      "512/512 [==============================] - 2s 3ms/step - loss: 9.9445e-05\n",
      "Epoch 41/50\n",
      "512/512 [==============================] - 2s 3ms/step - loss: 1.0945e-04\n",
      "Epoch 42/50\n",
      "512/512 [==============================] - 2s 3ms/step - loss: 9.9777e-05\n",
      "Epoch 43/50\n",
      "512/512 [==============================] - 2s 3ms/step - loss: 1.4106e-04\n",
      "Epoch 44/50\n",
      "512/512 [==============================] - 2s 3ms/step - loss: 9.6863e-05\n",
      "Epoch 45/50\n",
      "512/512 [==============================] - 2s 4ms/step - loss: 1.1238e-04\n",
      "Epoch 46/50\n",
      "512/512 [==============================] - 2s 4ms/step - loss: 1.1640e-04\n",
      "Epoch 47/50\n",
      "512/512 [==============================] - 2s 4ms/step - loss: 1.2142e-04\n",
      "Epoch 48/50\n",
      "512/512 [==============================] - 2s 4ms/step - loss: 9.9255e-05\n",
      "Epoch 49/50\n",
      "512/512 [==============================] - 2s 4ms/step - loss: 1.0375e-04\n",
      "Epoch 50/50\n",
      "512/512 [==============================] - 2s 4ms/step - loss: 1.1993e-04\n"
     ]
    },
    {
     "data": {
      "text/plain": [
       "<keras.callbacks.History at 0x172a313ed40>"
      ]
     },
     "execution_count": 29,
     "metadata": {},
     "output_type": "execute_result"
    }
   ],
   "source": [
    "#fit model\n",
    "model.fit(generator, epochs=50)"
   ]
  },
  {
   "cell_type": "code",
   "execution_count": 32,
   "id": "aa1f76bf",
   "metadata": {},
   "outputs": [
    {
     "ename": "TypeError",
     "evalue": "'History' object is not subscriptable",
     "output_type": "error",
     "traceback": [
      "\u001b[1;31m---------------------------------------------------------------------------\u001b[0m",
      "\u001b[1;31mTypeError\u001b[0m                                 Traceback (most recent call last)",
      "Input \u001b[1;32mIn [32]\u001b[0m, in \u001b[0;36m<cell line: 2>\u001b[1;34m()\u001b[0m\n\u001b[0;32m      1\u001b[0m \u001b[38;5;66;03m#plot loss\u001b[39;00m\n\u001b[1;32m----> 2\u001b[0m loss_per_epoch \u001b[38;5;241m=\u001b[39m \u001b[43mmodel\u001b[49m\u001b[38;5;241;43m.\u001b[39;49m\u001b[43mhistory\u001b[49m\u001b[43m[\u001b[49m\u001b[38;5;124;43m'\u001b[39;49m\u001b[38;5;124;43mloss\u001b[39;49m\u001b[38;5;124;43m'\u001b[39;49m\u001b[43m]\u001b[49m\n\u001b[0;32m      3\u001b[0m plt\u001b[38;5;241m.\u001b[39mplot(\u001b[38;5;28mrange\u001b[39m(\u001b[38;5;28mlen\u001b[39m(loss_per_epoch)), loss_per_epoch)\n",
      "\u001b[1;31mTypeError\u001b[0m: 'History' object is not subscriptable"
     ]
    }
   ],
   "source": [
    "#plot loss\n",
    "loss_per_epoch = model.history['loss']\n",
    "plt.plot(range(len(loss_per_epoch)), loss_per_epoch)"
   ]
  },
  {
   "cell_type": "code",
   "execution_count": 33,
   "id": "33f46e41",
   "metadata": {},
   "outputs": [],
   "source": [
    "last_train_batch = scaled_train[-12:]"
   ]
  },
  {
   "cell_type": "code",
   "execution_count": 35,
   "id": "933308e2",
   "metadata": {},
   "outputs": [],
   "source": [
    "last_train_batch = last_train_batch.reshape((1, n_input, n_features))"
   ]
  },
  {
   "cell_type": "code",
   "execution_count": 36,
   "id": "4499a684",
   "metadata": {},
   "outputs": [
    {
     "data": {
      "text/plain": [
       "array([[0.15869223]], dtype=float32)"
      ]
     },
     "execution_count": 36,
     "metadata": {},
     "output_type": "execute_result"
    }
   ],
   "source": [
    "model.predict(last_train_batch)"
   ]
  },
  {
   "cell_type": "code",
   "execution_count": 37,
   "id": "d9ae15fa",
   "metadata": {},
   "outputs": [
    {
     "data": {
      "text/plain": [
       "array([0.14925373])"
      ]
     },
     "execution_count": 37,
     "metadata": {},
     "output_type": "execute_result"
    }
   ],
   "source": [
    "scaled_test[0]"
   ]
  },
  {
   "cell_type": "code",
   "execution_count": 39,
   "id": "68a05c77",
   "metadata": {},
   "outputs": [],
   "source": [
    "test_predictions = []\n",
    "\n",
    "first_eval_batch = scaled_train[-n_input:]\n",
    "current_batch = first_eval_batch.reshape((1, n_input, n_features))\n",
    "\n",
    "for i in range(len(adtest)):\n",
    "    \n",
    "    # get the prediction value for the first batch\n",
    "    current_pred = model.predict(current_batch)[0]\n",
    "    \n",
    "    # append the prediction into the array\n",
    "    test_predictions.append(current_pred) \n",
    "    \n",
    "    # use the prediction to update the batch and remove the first value\n",
    "    current_batch = np.append(current_batch[:,1:,:],[[current_pred]],axis=1)"
   ]
  },
  {
   "cell_type": "code",
   "execution_count": 40,
   "id": "152c0fe4",
   "metadata": {},
   "outputs": [
    {
     "data": {
      "text/plain": [
       "[array([0.15869223], dtype=float32),\n",
       " array([0.16045548], dtype=float32),\n",
       " array([0.1628501], dtype=float32),\n",
       " array([0.1660902], dtype=float32),\n",
       " array([0.17014179], dtype=float32),\n",
       " array([0.17504397], dtype=float32),\n",
       " array([0.18081664], dtype=float32),\n",
       " array([0.18743521], dtype=float32),\n",
       " array([0.19497976], dtype=float32),\n",
       " array([0.2035415], dtype=float32),\n",
       " array([0.21291514], dtype=float32),\n",
       " array([0.22309211], dtype=float32),\n",
       " array([0.23430693], dtype=float32),\n",
       " array([0.2466822], dtype=float32),\n",
       " array([0.26029396], dtype=float32),\n",
       " array([0.27520496], dtype=float32),\n",
       " array([0.29143542], dtype=float32),\n",
       " array([0.3088708], dtype=float32),\n",
       " array([0.32745722], dtype=float32),\n",
       " array([0.34711874], dtype=float32),\n",
       " array([0.36789], dtype=float32),\n",
       " array([0.38982785], dtype=float32),\n",
       " array([0.41297227], dtype=float32),\n",
       " array([0.4373294], dtype=float32),\n",
       " array([0.46290666], dtype=float32),\n",
       " array([0.48962116], dtype=float32),\n",
       " array([0.51743126], dtype=float32),\n",
       " array([0.54632837], dtype=float32),\n",
       " array([0.57635087], dtype=float32),\n",
       " array([0.60749084], dtype=float32),\n",
       " array([0.63973296], dtype=float32),\n",
       " array([0.6730475], dtype=float32),\n",
       " array([0.7074047], dtype=float32),\n",
       " array([0.74277186], dtype=float32),\n",
       " array([0.77910405], dtype=float32),\n",
       " array([0.81633866], dtype=float32),\n",
       " array([0.8544101], dtype=float32),\n",
       " array([0.8932345], dtype=float32),\n",
       " array([0.9326851], dtype=float32),\n",
       " array([0.9725649], dtype=float32),\n",
       " array([1.012671], dtype=float32),\n",
       " array([1.0527923], dtype=float32),\n",
       " array([1.0926895], dtype=float32),\n",
       " array([1.1320989], dtype=float32),\n",
       " array([1.170742], dtype=float32),\n",
       " array([1.2083164], dtype=float32),\n",
       " array([1.2445176], dtype=float32),\n",
       " array([1.2790265], dtype=float32),\n",
       " array([1.3115177], dtype=float32),\n",
       " array([1.341656], dtype=float32),\n",
       " array([1.3691349], dtype=float32),\n",
       " array([1.3936626], dtype=float32),\n",
       " array([1.4149783], dtype=float32),\n",
       " array([1.4328408], dtype=float32),\n",
       " array([1.4470694], dtype=float32),\n",
       " array([1.4575349], dtype=float32),\n",
       " array([1.4641606], dtype=float32),\n",
       " array([1.466935], dtype=float32),\n",
       " array([1.4659113], dtype=float32),\n",
       " array([1.4612026], dtype=float32),\n",
       " array([1.4529779], dtype=float32),\n",
       " array([1.4414214], dtype=float32),\n",
       " array([1.4267687], dtype=float32),\n",
       " array([1.4093206], dtype=float32),\n",
       " array([1.3894038], dtype=float32),\n",
       " array([1.3673567], dtype=float32),\n",
       " array([1.3435235], dtype=float32),\n",
       " array([1.3182482], dtype=float32),\n",
       " array([1.2918662], dtype=float32),\n",
       " array([1.2646973], dtype=float32),\n",
       " array([1.2370414], dtype=float32),\n",
       " array([1.2091738], dtype=float32),\n",
       " array([1.1813438], dtype=float32),\n",
       " array([1.1537734], dtype=float32),\n",
       " array([1.1266578], dtype=float32),\n",
       " array([1.1001658], dtype=float32),\n",
       " array([1.0744414], dtype=float32),\n",
       " array([1.0496042], dtype=float32),\n",
       " array([1.0257543], dtype=float32),\n",
       " array([1.0029763], dtype=float32),\n",
       " array([0.9813375], dtype=float32),\n",
       " array([0.9608449], dtype=float32),\n",
       " array([0.9415481], dtype=float32),\n",
       " array([0.923494], dtype=float32),\n",
       " array([0.90670794], dtype=float32),\n",
       " array([0.8912041], dtype=float32),\n",
       " array([0.8769895], dtype=float32),\n",
       " array([0.8640663], dtype=float32),\n",
       " array([0.8524307], dtype=float32),\n",
       " array([0.8420752], dtype=float32),\n",
       " array([0.83299106], dtype=float32),\n",
       " array([0.8251543], dtype=float32),\n",
       " array([0.8185468], dtype=float32),\n",
       " array([0.8131506], dtype=float32),\n",
       " array([0.8089457], dtype=float32),\n",
       " array([0.8059117], dtype=float32),\n",
       " array([0.80402684], dtype=float32),\n",
       " array([0.80326825], dtype=float32),\n",
       " array([0.80361253], dtype=float32),\n",
       " array([0.80499727], dtype=float32),\n",
       " array([0.8073767], dtype=float32),\n",
       " array([0.81071895], dtype=float32),\n",
       " array([0.8149963], dtype=float32),\n",
       " array([0.8201783], dtype=float32),\n",
       " array([0.8262357], dtype=float32),\n",
       " array([0.8331305], dtype=float32),\n",
       " array([0.8408239], dtype=float32),\n",
       " array([0.8492757], dtype=float32),\n",
       " array([0.85844374], dtype=float32),\n",
       " array([0.8682834], dtype=float32),\n",
       " array([0.8787485], dtype=float32),\n",
       " array([0.88979083], dtype=float32),\n",
       " array([0.90136], dtype=float32),\n",
       " array([0.91340286], dtype=float32),\n",
       " array([0.9258636], dtype=float32),\n",
       " array([0.9386844], dtype=float32),\n",
       " array([0.9518045], dtype=float32),\n",
       " array([0.96516114], dtype=float32),\n",
       " array([0.9786779], dtype=float32),\n",
       " array([0.9922838], dtype=float32),\n",
       " array([1.0059078], dtype=float32),\n",
       " array([1.0194771], dtype=float32),\n",
       " array([1.0329193], dtype=float32),\n",
       " array([1.0461612], dtype=float32),\n",
       " array([1.0591298], dtype=float32),\n",
       " array([1.0717529], dtype=float32),\n",
       " array([1.0839591], dtype=float32),\n",
       " array([1.0956784], dtype=float32),\n",
       " array([1.1068442], dtype=float32),\n",
       " array([1.1173931], dtype=float32),\n",
       " array([1.1272659], dtype=float32)]"
      ]
     },
     "execution_count": 40,
     "metadata": {},
     "output_type": "execute_result"
    }
   ],
   "source": [
    "test_predictions"
   ]
  },
  {
   "cell_type": "code",
   "execution_count": 42,
   "id": "0c3999ca",
   "metadata": {},
   "outputs": [
    {
     "data": {
      "text/html": [
       "<div>\n",
       "<style scoped>\n",
       "    .dataframe tbody tr th:only-of-type {\n",
       "        vertical-align: middle;\n",
       "    }\n",
       "\n",
       "    .dataframe tbody tr th {\n",
       "        vertical-align: top;\n",
       "    }\n",
       "\n",
       "    .dataframe thead th {\n",
       "        text-align: right;\n",
       "    }\n",
       "</style>\n",
       "<table border=\"1\" class=\"dataframe\">\n",
       "  <thead>\n",
       "    <tr style=\"text-align: right;\">\n",
       "      <th></th>\n",
       "      <th>adult_icu_crci_patients</th>\n",
       "    </tr>\n",
       "    <tr>\n",
       "      <th>date</th>\n",
       "      <th></th>\n",
       "    </tr>\n",
       "  </thead>\n",
       "  <tbody>\n",
       "    <tr>\n",
       "      <th>2021-10-07</th>\n",
       "      <td>148</td>\n",
       "    </tr>\n",
       "    <tr>\n",
       "      <th>2021-10-08</th>\n",
       "      <td>152</td>\n",
       "    </tr>\n",
       "    <tr>\n",
       "      <th>2021-10-09</th>\n",
       "      <td>152</td>\n",
       "    </tr>\n",
       "    <tr>\n",
       "      <th>2021-10-10</th>\n",
       "      <td>151</td>\n",
       "    </tr>\n",
       "    <tr>\n",
       "      <th>2021-10-11</th>\n",
       "      <td>153</td>\n",
       "    </tr>\n",
       "  </tbody>\n",
       "</table>\n",
       "</div>"
      ],
      "text/plain": [
       "            adult_icu_crci_patients\n",
       "date                               \n",
       "2021-10-07                      148\n",
       "2021-10-08                      152\n",
       "2021-10-09                      152\n",
       "2021-10-10                      151\n",
       "2021-10-11                      153"
      ]
     },
     "execution_count": 42,
     "metadata": {},
     "output_type": "execute_result"
    }
   ],
   "source": [
    "adtest.head()"
   ]
  },
  {
   "cell_type": "code",
   "execution_count": 43,
   "id": "b56b944f",
   "metadata": {},
   "outputs": [],
   "source": [
    "true_predictions = scaler.inverse_transform(test_predictions)"
   ]
  },
  {
   "cell_type": "code",
   "execution_count": 45,
   "id": "d08a4272",
   "metadata": {},
   "outputs": [
    {
     "name": "stderr",
     "output_type": "stream",
     "text": [
      "C:\\Users\\Jneny\\AppData\\Local\\Temp\\ipykernel_6496\\426780066.py:1: SettingWithCopyWarning: \n",
      "A value is trying to be set on a copy of a slice from a DataFrame.\n",
      "Try using .loc[row_indexer,col_indexer] = value instead\n",
      "\n",
      "See the caveats in the documentation: https://pandas.pydata.org/pandas-docs/stable/user_guide/indexing.html#returning-a-view-versus-a-copy\n",
      "  adtest['Predictions'] = true_predictions\n"
     ]
    }
   ],
   "source": [
    "adtest['Predictions'] = true_predictions"
   ]
  },
  {
   "cell_type": "code",
   "execution_count": 47,
   "id": "71c1157a",
   "metadata": {},
   "outputs": [
    {
     "data": {
      "text/plain": [
       "<AxesSubplot:xlabel='date'>"
      ]
     },
     "execution_count": 47,
     "metadata": {},
     "output_type": "execute_result"
    },
    {
     "data": {
      "image/png": "[encoded data removed]",
      "text/plain": [
       "<Figure size 1008x360 with 1 Axes>"
      ]
     },
     "metadata": {
      "needs_background": "light"
     },
     "output_type": "display_data"
    }
   ],
   "source": [
    "adtest.plot(figsize=(14,5))"
   ]
  },
  {
   "cell_type": "code",
   "execution_count": 50,
   "id": "d7ccc83e",
   "metadata": {},
   "outputs": [
    {
     "ename": "KeyError",
     "evalue": "'Production'",
     "output_type": "error",
     "traceback": [
      "\u001b[1;31m---------------------------------------------------------------------------\u001b[0m",
      "\u001b[1;31mKeyError\u001b[0m                                  Traceback (most recent call last)",
      "File \u001b[1;32m~\\AppData\\Local\\Programs\\Python\\Python310\\lib\\site-packages\\pandas\\core\\indexes\\base.py:3621\u001b[0m, in \u001b[0;36mIndex.get_loc\u001b[1;34m(self, key, method, tolerance)\u001b[0m\n\u001b[0;32m   3620\u001b[0m \u001b[38;5;28;01mtry\u001b[39;00m:\n\u001b[1;32m-> 3621\u001b[0m     \u001b[38;5;28;01mreturn\u001b[39;00m \u001b[38;5;28;43mself\u001b[39;49m\u001b[38;5;241;43m.\u001b[39;49m\u001b[43m_engine\u001b[49m\u001b[38;5;241;43m.\u001b[39;49m\u001b[43mget_loc\u001b[49m\u001b[43m(\u001b[49m\u001b[43mcasted_key\u001b[49m\u001b[43m)\u001b[49m\n\u001b[0;32m   3622\u001b[0m \u001b[38;5;28;01mexcept\u001b[39;00m \u001b[38;5;167;01mKeyError\u001b[39;00m \u001b[38;5;28;01mas\u001b[39;00m err:\n",
      "File \u001b[1;32m~\\AppData\\Local\\Programs\\Python\\Python310\\lib\\site-packages\\pandas\\_libs\\index.pyx:136\u001b[0m, in \u001b[0;36mpandas._libs.index.IndexEngine.get_loc\u001b[1;34m()\u001b[0m\n",
      "File \u001b[1;32m~\\AppData\\Local\\Programs\\Python\\Python310\\lib\\site-packages\\pandas\\_libs\\index.pyx:163\u001b[0m, in \u001b[0;36mpandas._libs.index.IndexEngine.get_loc\u001b[1;34m()\u001b[0m\n",
      "File \u001b[1;32mpandas\\_libs\\hashtable_class_helper.pxi:5198\u001b[0m, in \u001b[0;36mpandas._libs.hashtable.PyObjectHashTable.get_item\u001b[1;34m()\u001b[0m\n",
      "File \u001b[1;32mpandas\\_libs\\hashtable_class_helper.pxi:5206\u001b[0m, in \u001b[0;36mpandas._libs.hashtable.PyObjectHashTable.get_item\u001b[1;34m()\u001b[0m\n",
      "\u001b[1;31mKeyError\u001b[0m: 'Production'",
      "\nThe above exception was the direct cause of the following exception:\n",
      "\u001b[1;31mKeyError\u001b[0m                                  Traceback (most recent call last)",
      "Input \u001b[1;32mIn [50]\u001b[0m, in \u001b[0;36m<cell line: 3>\u001b[1;34m()\u001b[0m\n\u001b[0;32m      1\u001b[0m \u001b[38;5;28;01mfrom\u001b[39;00m \u001b[38;5;21;01msklearn\u001b[39;00m\u001b[38;5;21;01m.\u001b[39;00m\u001b[38;5;21;01mmetrics\u001b[39;00m \u001b[38;5;28;01mimport\u001b[39;00m mean_squared_error\n\u001b[0;32m      2\u001b[0m \u001b[38;5;28;01mfrom\u001b[39;00m \u001b[38;5;21;01mmath\u001b[39;00m \u001b[38;5;28;01mimport\u001b[39;00m sqrt\n\u001b[1;32m----> 3\u001b[0m rmse\u001b[38;5;241m=\u001b[39msqrt(mean_squared_error(\u001b[43madtest\u001b[49m\u001b[43m[\u001b[49m\u001b[38;5;124;43m'\u001b[39;49m\u001b[38;5;124;43mProduction\u001b[39;49m\u001b[38;5;124;43m'\u001b[39;49m\u001b[43m]\u001b[49m, adtest[\u001b[38;5;124m'\u001b[39m\u001b[38;5;124mPredictions\u001b[39m\u001b[38;5;124m'\u001b[39m]))\n\u001b[0;32m      4\u001b[0m \u001b[38;5;28mprint\u001b[39m(rmse)\n",
      "File \u001b[1;32m~\\AppData\\Local\\Programs\\Python\\Python310\\lib\\site-packages\\pandas\\core\\frame.py:3505\u001b[0m, in \u001b[0;36mDataFrame.__getitem__\u001b[1;34m(self, key)\u001b[0m\n\u001b[0;32m   3503\u001b[0m \u001b[38;5;28;01mif\u001b[39;00m \u001b[38;5;28mself\u001b[39m\u001b[38;5;241m.\u001b[39mcolumns\u001b[38;5;241m.\u001b[39mnlevels \u001b[38;5;241m>\u001b[39m \u001b[38;5;241m1\u001b[39m:\n\u001b[0;32m   3504\u001b[0m     \u001b[38;5;28;01mreturn\u001b[39;00m \u001b[38;5;28mself\u001b[39m\u001b[38;5;241m.\u001b[39m_getitem_multilevel(key)\n\u001b[1;32m-> 3505\u001b[0m indexer \u001b[38;5;241m=\u001b[39m \u001b[38;5;28;43mself\u001b[39;49m\u001b[38;5;241;43m.\u001b[39;49m\u001b[43mcolumns\u001b[49m\u001b[38;5;241;43m.\u001b[39;49m\u001b[43mget_loc\u001b[49m\u001b[43m(\u001b[49m\u001b[43mkey\u001b[49m\u001b[43m)\u001b[49m\n\u001b[0;32m   3506\u001b[0m \u001b[38;5;28;01mif\u001b[39;00m is_integer(indexer):\n\u001b[0;32m   3507\u001b[0m     indexer \u001b[38;5;241m=\u001b[39m [indexer]\n",
      "File \u001b[1;32m~\\AppData\\Local\\Programs\\Python\\Python310\\lib\\site-packages\\pandas\\core\\indexes\\base.py:3623\u001b[0m, in \u001b[0;36mIndex.get_loc\u001b[1;34m(self, key, method, tolerance)\u001b[0m\n\u001b[0;32m   3621\u001b[0m     \u001b[38;5;28;01mreturn\u001b[39;00m \u001b[38;5;28mself\u001b[39m\u001b[38;5;241m.\u001b[39m_engine\u001b[38;5;241m.\u001b[39mget_loc(casted_key)\n\u001b[0;32m   3622\u001b[0m \u001b[38;5;28;01mexcept\u001b[39;00m \u001b[38;5;167;01mKeyError\u001b[39;00m \u001b[38;5;28;01mas\u001b[39;00m err:\n\u001b[1;32m-> 3623\u001b[0m     \u001b[38;5;28;01mraise\u001b[39;00m \u001b[38;5;167;01mKeyError\u001b[39;00m(key) \u001b[38;5;28;01mfrom\u001b[39;00m \u001b[38;5;21;01merr\u001b[39;00m\n\u001b[0;32m   3624\u001b[0m \u001b[38;5;28;01mexcept\u001b[39;00m \u001b[38;5;167;01mTypeError\u001b[39;00m:\n\u001b[0;32m   3625\u001b[0m     \u001b[38;5;66;03m# If we have a listlike key, _check_indexing_error will raise\u001b[39;00m\n\u001b[0;32m   3626\u001b[0m     \u001b[38;5;66;03m#  InvalidIndexError. Otherwise we fall through and re-raise\u001b[39;00m\n\u001b[0;32m   3627\u001b[0m     \u001b[38;5;66;03m#  the TypeError.\u001b[39;00m\n\u001b[0;32m   3628\u001b[0m     \u001b[38;5;28mself\u001b[39m\u001b[38;5;241m.\u001b[39m_check_indexing_error(key)\n",
      "\u001b[1;31mKeyError\u001b[0m: 'Production'"
     ]
    }
   ],
   "source": [
    "from sklearn.metrics import mean_squared_error\n",
    "from math import sqrt\n",
    "rmse=sqrt(mean_squared_error(adtest['Production'], adtest['Predictions']))\n",
    "print(rmse)"
   ]
  },
  {
   "cell_type": "code",
   "execution_count": null,
   "id": "be87e970",
   "metadata": {},
   "outputs": [],
   "source": []
  }
 ],
 "metadata": {
  "kernelspec": {
   "display_name": "Python 3 (ipykernel)",
   "language": "python",
   "name": "python3"
  },
  "language_info": {
   "codemirror_mode": {
    "name": "ipython",
    "version": 3
   },
   "file_extension": ".py",
   "mimetype": "text/x-python",
   "name": "python",
   "nbconvert_exporter": "python",
   "pygments_lexer": "ipython3",
   "version": "3.10.3"
  }
 },
 "nbformat": 4,
 "nbformat_minor": 5
}
