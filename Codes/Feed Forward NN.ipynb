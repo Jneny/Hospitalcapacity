{
 "cells": [
  {
   "cell_type": "code",
   "execution_count": 1,
   "metadata": {
    "id": "yCtMFPU4kz69"
   },
   "outputs": [],
   "source": [
    "import numpy as np\n",
    "import matplotlib.pyplot as plt\n",
    "import pandas as pd\n",
    "from pandas import read_csv\n",
    "import math"
   ]
  },
  {
   "cell_type": "code",
   "execution_count": 2,
   "metadata": {
    "id": "uxcItdxalbkc"
   },
   "outputs": [],
   "source": [
    "url = 'https://raw.githubusercontent.com/Jneny/Hospitalcapacity/main/Data/icu_beds.csv'\n",
    "data = read_csv(url, header=0, parse_dates=[0], index_col=0)\n",
    "data = data.asfreq('d')\n",
    "adultcrit = pd.DataFrame(data, columns=['adult_icu_crci_patients'])\n",
    "sadultcrit = pd.Series(adultcrit.adult_icu_crci_patients)"
   ]
  },
  {
   "cell_type": "code",
   "execution_count": 3,
   "metadata": {
    "id": "Pb5PHoPzlfme"
   },
   "outputs": [],
   "source": [
    "from keras.models import Sequential\n",
    "from keras.layers import Dense\n",
    "from sklearn.preprocessing import MinMaxScaler\n",
    "from sklearn.metrics import mean_squared_error"
   ]
  },
  {
   "cell_type": "code",
   "execution_count": 4,
   "metadata": {
    "id": "BbpdWsgvUVWr"
   },
   "outputs": [],
   "source": [
    "#Convert pandas dataframe to numpy array\n",
    "dataset = adultcrit.values\n",
    "# dataset.dtype\n",
    "dataset = dataset.astype('float32') #Convert values to float"
   ]
  },
  {
   "cell_type": "code",
   "execution_count": 5,
   "metadata": {
    "id": "rbzrhqj8Uewp"
   },
   "outputs": [],
   "source": [
    "# normalize the dataset\n",
    "scaler = MinMaxScaler(feature_range=(0, 1)) #Also try QuantileTransformer\n",
    "dataset = scaler.fit_transform(dataset)"
   ]
  },
  {
   "cell_type": "code",
   "execution_count": 6,
   "metadata": {
    "id": "Pq4UAkqiUfZq"
   },
   "outputs": [],
   "source": [
    "# len(dataset) = 655, want to predict last month or last 4 weeks = 655- (7*4) = 627\n",
    "train, test = dataset[:627], dataset[627:]"
   ]
  },
  {
   "cell_type": "code",
   "execution_count": 7,
   "metadata": {
    "id": "70cjlO12Vwic"
   },
   "outputs": [],
   "source": [
    "def to_sequences(dataset, seq_size=1):\n",
    "    x = []\n",
    "    y = []\n",
    "\n",
    "    for i in range(len(dataset)-seq_size-1):\n",
    "        #print(i)\n",
    "        window = dataset[i:(i+seq_size), 0]\n",
    "        x.append(window)\n",
    "        y.append(dataset[i+seq_size, 0])\n",
    "        \n",
    "    return np.array(x),np.array(y)"
   ]
  },
  {
   "cell_type": "code",
   "execution_count": 8,
   "metadata": {
    "id": "TWV0flroWgUn"
   },
   "outputs": [],
   "source": [
    "#input size first week then predict the next\n",
    "seq_size = 7 \n",
    "#Larger sequences (look further back) may improve forecasting.\n",
    "trainX, trainY = to_sequences(train, seq_size)\n",
    "testX, testY = to_sequences(test, seq_size)"
   ]
  },
  {
   "cell_type": "code",
   "execution_count": 9,
   "metadata": {
    "colab": {
     "base_uri": "https://localhost:8080/"
    },
    "id": "heettq7OXBLW",
    "outputId": "2bbfa518-b574-4654-c702-854e85d56e06"
   },
   "outputs": [
    {
     "name": "stdout",
     "output_type": "stream",
     "text": [
      "Shape of training set: (619, 7)\n",
      "Shape of test set: (20, 7)\n"
     ]
    }
   ],
   "source": [
    "print(\"Shape of training set: {}\".format(trainX.shape))\n",
    "print(\"Shape of test set: {}\".format(testX.shape))"
   ]
  },
  {
   "cell_type": "code",
   "execution_count": 10,
   "metadata": {
    "colab": {
     "base_uri": "https://localhost:8080/"
    },
    "id": "kW5HuO2uXGMC",
    "outputId": "83615cd8-3927-4449-c2d5-bb7d74234bb3"
   },
   "outputs": [
    {
     "name": "stdout",
     "output_type": "stream",
     "text": [
      "Build deep model...\n",
      "Model: \"sequential\"\n",
      "_________________________________________________________________\n",
      " Layer (type)                Output Shape              Param #   \n",
      "=================================================================\n",
      " dense (Dense)               (None, 64)                512       \n",
      "                                                                 \n",
      " dense_1 (Dense)             (None, 32)                2080      \n",
      "                                                                 \n",
      " dense_2 (Dense)             (None, 1)                 33        \n",
      "                                                                 \n",
      "=================================================================\n",
      "Total params: 2,625\n",
      "Trainable params: 2,625\n",
      "Non-trainable params: 0\n",
      "_________________________________________________________________\n",
      "None\n"
     ]
    }
   ],
   "source": [
    "print('Build deep model...')\n",
    "# create and fit dense model\n",
    "model = Sequential()\n",
    "model.add(Dense(64, input_dim=seq_size, activation='relu')) #12\n",
    "model.add(Dense(32, activation='relu'))  #8\n",
    "model.add(Dense(1)) # y value\n",
    "model.compile(loss='mean_squared_error', optimizer='adam', metrics = ['acc'])\n",
    "print(model.summary()) "
   ]
  },
  {
   "cell_type": "code",
   "execution_count": 19,
   "metadata": {
    "colab": {
     "base_uri": "https://localhost:8080/"
    },
    "id": "xitDvOLaXQGN",
    "outputId": "f772a3e4-e780-4bb0-d18b-9e121df5962e"
   },
   "outputs": [
    {
     "name": "stdout",
     "output_type": "stream",
     "text": [
      "Epoch 1/20\n",
      "20/20 - 0s - loss: 7.0560e-04 - acc: 0.0032 - val_loss: 0.0023 - val_acc: 0.0000e+00 - 70ms/epoch - 4ms/step\n",
      "Epoch 2/20\n",
      "20/20 - 0s - loss: 6.5614e-04 - acc: 0.0032 - val_loss: 0.0016 - val_acc: 0.0000e+00 - 43ms/epoch - 2ms/step\n",
      "Epoch 3/20\n",
      "20/20 - 0s - loss: 6.3274e-04 - acc: 0.0032 - val_loss: 7.5391e-04 - val_acc: 0.0000e+00 - 42ms/epoch - 2ms/step\n",
      "Epoch 4/20\n",
      "20/20 - 0s - loss: 6.4030e-04 - acc: 0.0032 - val_loss: 0.0015 - val_acc: 0.0000e+00 - 40ms/epoch - 2ms/step\n",
      "Epoch 5/20\n",
      "20/20 - 0s - loss: 5.3342e-04 - acc: 0.0032 - val_loss: 0.0012 - val_acc: 0.0000e+00 - 44ms/epoch - 2ms/step\n",
      "Epoch 6/20\n",
      "20/20 - 0s - loss: 4.8508e-04 - acc: 0.0032 - val_loss: 0.0010 - val_acc: 0.0000e+00 - 44ms/epoch - 2ms/step\n",
      "Epoch 7/20\n",
      "20/20 - 0s - loss: 4.4931e-04 - acc: 0.0032 - val_loss: 0.0015 - val_acc: 0.0000e+00 - 42ms/epoch - 2ms/step\n",
      "Epoch 8/20\n",
      "20/20 - 0s - loss: 4.1681e-04 - acc: 0.0032 - val_loss: 0.0011 - val_acc: 0.0000e+00 - 49ms/epoch - 2ms/step\n",
      "Epoch 9/20\n",
      "20/20 - 0s - loss: 3.8447e-04 - acc: 0.0032 - val_loss: 9.9251e-04 - val_acc: 0.0000e+00 - 46ms/epoch - 2ms/step\n",
      "Epoch 10/20\n",
      "20/20 - 0s - loss: 3.5185e-04 - acc: 0.0032 - val_loss: 0.0012 - val_acc: 0.0000e+00 - 55ms/epoch - 3ms/step\n",
      "Epoch 11/20\n",
      "20/20 - 0s - loss: 3.2564e-04 - acc: 0.0032 - val_loss: 8.2203e-04 - val_acc: 0.0000e+00 - 39ms/epoch - 2ms/step\n",
      "Epoch 12/20\n",
      "20/20 - 0s - loss: 2.8446e-04 - acc: 0.0032 - val_loss: 8.0590e-04 - val_acc: 0.0000e+00 - 44ms/epoch - 2ms/step\n",
      "Epoch 13/20\n",
      "20/20 - 0s - loss: 2.7125e-04 - acc: 0.0032 - val_loss: 4.3414e-04 - val_acc: 0.0000e+00 - 42ms/epoch - 2ms/step\n",
      "Epoch 14/20\n",
      "20/20 - 0s - loss: 2.4724e-04 - acc: 0.0032 - val_loss: 3.2987e-04 - val_acc: 0.0000e+00 - 41ms/epoch - 2ms/step\n",
      "Epoch 15/20\n",
      "20/20 - 0s - loss: 2.2113e-04 - acc: 0.0032 - val_loss: 3.0825e-04 - val_acc: 0.0000e+00 - 48ms/epoch - 2ms/step\n",
      "Epoch 16/20\n",
      "20/20 - 0s - loss: 2.1341e-04 - acc: 0.0032 - val_loss: 2.1049e-04 - val_acc: 0.0000e+00 - 42ms/epoch - 2ms/step\n",
      "Epoch 17/20\n",
      "20/20 - 0s - loss: 2.0207e-04 - acc: 0.0032 - val_loss: 4.2542e-04 - val_acc: 0.0000e+00 - 40ms/epoch - 2ms/step\n",
      "Epoch 18/20\n",
      "20/20 - 0s - loss: 1.6656e-04 - acc: 0.0032 - val_loss: 3.2410e-04 - val_acc: 0.0000e+00 - 45ms/epoch - 2ms/step\n",
      "Epoch 19/20\n",
      "20/20 - 0s - loss: 1.6330e-04 - acc: 0.0032 - val_loss: 5.0857e-04 - val_acc: 0.0000e+00 - 40ms/epoch - 2ms/step\n",
      "Epoch 20/20\n",
      "20/20 - 0s - loss: 1.4861e-04 - acc: 0.0032 - val_loss: 5.6341e-04 - val_acc: 0.0000e+00 - 48ms/epoch - 2ms/step\n"
     ]
    },
    {
     "data": {
      "text/plain": [
       "<keras.callbacks.History at 0x216b84ee620>"
      ]
     },
     "execution_count": 19,
     "metadata": {},
     "output_type": "execute_result"
    }
   ],
   "source": [
    "model.fit(trainX, trainY, validation_data=(testX, testY),\n",
    "          verbose=2, epochs=20)\n"
   ]
  },
  {
   "cell_type": "code",
   "execution_count": 20,
   "metadata": {
    "id": "aoqodGtIYBkA"
   },
   "outputs": [],
   "source": [
    "trainPredict = model.predict(trainX)\n",
    "testPredict = model.predict(testX)"
   ]
  },
  {
   "cell_type": "code",
   "execution_count": 21,
   "metadata": {
    "id": "22naiN40YJw0"
   },
   "outputs": [],
   "source": [
    "# Estimate model performance\n",
    "#SInce we used minmaxscaler we can now use scaler.inverse_transform\n",
    "#to invert the transformation.\n",
    "\n",
    "trainPredict = scaler.inverse_transform(trainPredict)\n",
    "trainY_inverse = scaler.inverse_transform([trainY])\n",
    "testPredict = scaler.inverse_transform(testPredict)\n",
    "testY_inverse = scaler.inverse_transform([testY])\n"
   ]
  },
  {
   "cell_type": "code",
   "execution_count": 22,
   "metadata": {
    "colab": {
     "base_uri": "https://localhost:8080/"
    },
    "id": "cocYTiVHMM2x",
    "outputId": "e6c0cc4e-6924-4812-b348-8ebf89ebd0d0"
   },
   "outputs": [
    {
     "name": "stdout",
     "output_type": "stream",
     "text": [
      "3.8385024040152538\n",
      "3.8385024040152538\n"
     ]
    }
   ],
   "source": [
    "def MAPE(Y_actual,Y_Predicted):\n",
    "    mape = np.mean(np.abs((Y_actual - Y_Predicted)/Y_actual))*100\n",
    "    return mape\n",
    "print(MAPE(testY_inverse[0], testPredict[:,0]))\n",
    "print(MAPE(testY_inverse[0], testPredict[:,0]))"
   ]
  },
  {
   "cell_type": "code",
   "execution_count": 23,
   "metadata": {
    "colab": {
     "base_uri": "https://localhost:8080/"
    },
    "id": "oXaFiVFDYP2U",
    "outputId": "10e53a17-7829-4ad0-dca9-3f6a3c224a2b"
   },
   "outputs": [
    {
     "name": "stdout",
     "output_type": "stream",
     "text": [
      "Train Score: 11.18 RMSE\n",
      "Test Score: 20.67 RMSE\n"
     ]
    }
   ],
   "source": [
    "# calculate root mean squared error\n",
    "trainScore = math.sqrt(mean_squared_error(trainY_inverse[0], trainPredict[:,0]))\n",
    "print('Train Score: %.2f RMSE' % (trainScore))\n",
    "\n",
    "testScore = math.sqrt(mean_squared_error(testY_inverse[0], testPredict[:,0]))\n",
    "print('Test Score: %.2f RMSE' % (testScore))\n"
   ]
  },
  {
   "cell_type": "code",
   "execution_count": 24,
   "metadata": {
    "id": "zGLEaR-xYT-8"
   },
   "outputs": [],
   "source": [
    "# shift train predictions for plotting\n",
    "#we must shift the predictions so that they align on the x-axis with the original dataset. \n",
    "trainPredictPlot = np.empty_like(dataset)\n",
    "trainPredictPlot[:, :] = np.nan\n",
    "trainPredictPlot[seq_size:len(trainPredict)+seq_size, :] = trainPredict\n"
   ]
  },
  {
   "cell_type": "code",
   "execution_count": 25,
   "metadata": {
    "id": "aqQsD1tiYZfG"
   },
   "outputs": [],
   "source": [
    "# shift test predictions for plotting\n",
    "testPredictPlot = np.empty_like(dataset)\n",
    "testPredictPlot[:, :] = np.nan\n",
    "testPredictPlot[len(trainPredict)+(seq_size*2)+1:len(dataset)-1, :] = testPredict"
   ]
  },
  {
   "cell_type": "code",
   "execution_count": 26,
   "metadata": {
    "colab": {
     "base_uri": "https://localhost:8080/",
     "height": 265
    },
    "id": "EIE4BHGiYbpF",
    "outputId": "4e6117d2-01d5-42ee-82a5-602d2e608de6"
   },
   "outputs": [
    {
     "data": {
      "image/png": "[encoded data removed]",
      "text/plain": [
       "<Figure size 432x288 with 1 Axes>"
      ]
     },
     "metadata": {
      "needs_background": "light"
     },
     "output_type": "display_data"
    }
   ],
   "source": [
    "# plot baseline and predictions\n",
    "plt.plot(scaler.inverse_transform(dataset))\n",
    "plt.plot(trainPredictPlot)\n",
    "plt.plot(testPredictPlot, color = 'r')\n",
    "plt.show()"
   ]
  },
  {
   "cell_type": "code",
   "execution_count": null,
   "metadata": {
    "colab": {
     "base_uri": "https://localhost:8080/",
     "height": 131
    },
    "id": "PhvRbwMHYdt_",
    "outputId": "e845d994-81df-4c7c-fa54-d503f405a83b"
   },
   "outputs": [],
   "source": []
  },
  {
   "cell_type": "code",
   "execution_count": null,
   "metadata": {
    "id": "PMa--LSkMvl_"
   },
   "outputs": [],
   "source": []
  }
 ],
 "metadata": {
  "colab": {
   "collapsed_sections": [],
   "name": "Feed forward 01.ipynb",
   "provenance": []
  },
  "kernelspec": {
   "display_name": "Python 3 (ipykernel)",
   "language": "python",
   "name": "python3"
  },
  "language_info": {
   "codemirror_mode": {
    "name": "ipython",
    "version": 3
   },
   "file_extension": ".py",
   "mimetype": "text/x-python",
   "name": "python",
   "nbconvert_exporter": "python",
   "pygments_lexer": "ipython3",
   "version": "3.10.3"
  }
 },
 "nbformat": 4,
 "nbformat_minor": 1
}
