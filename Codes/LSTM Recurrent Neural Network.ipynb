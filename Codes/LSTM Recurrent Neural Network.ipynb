{
 "cells": [
  {
   "cell_type": "code",
   "execution_count": 1,
   "id": "cea7713c",
   "metadata": {},
   "outputs": [],
   "source": [
    "import tensorflow as tf\n",
    "import os\n",
    "import pandas as pd\n",
    "import numpy as np\n",
    "from pandas import read_csv"
   ]
  },
  {
   "cell_type": "code",
   "execution_count": 2,
   "id": "740d7d6c",
   "metadata": {},
   "outputs": [],
   "source": [
    "url = 'https://raw.githubusercontent.com/Jneny/Hospitalcapacity/main/Data/icu_beds.csv'\n",
    "data = read_csv(url, header=0, parse_dates=[0], index_col=0)\n",
    "data = data.asfreq('d')\n",
    "adultcrit = pd.DataFrame(data, columns=['adult_icu_crci_patients'])\n",
    "sadultcrit = pd.Series(adultcrit.adult_icu_crci_patients)"
   ]
  },
  {
   "cell_type": "code",
   "execution_count": 3,
   "id": "f033d94c",
   "metadata": {},
   "outputs": [],
   "source": [
    "#size = 648 days want to predict for biweekly basis, going to use last 4 weeks; 2weeks for validation set 2 weeks for test set\n",
    "adtrain = adultcrit.iloc[:620]\n",
    "adtest = adultcrit.iloc[620:]\n",
    "# X_train1, y_train1 = X1[:620], y1[:620]\n",
    "# X_val1, y_val1 = X1[620:634], y1[620:634]\n",
    "# X_test1, y_test1 = X1[634:], y1[634:]"
   ]
  },
  {
   "cell_type": "code",
   "execution_count": 4,
   "id": "3677091b",
   "metadata": {},
   "outputs": [],
   "source": [
    "#from statsmodels.tsa.seasonal import seasonal_decompose"
   ]
  },
  {
   "cell_type": "code",
   "execution_count": 5,
   "id": "d387e79f",
   "metadata": {},
   "outputs": [],
   "source": [
    "from sklearn.preprocessing import MinMaxScaler\n",
    "scaler = MinMaxScaler()\n",
    "#convert dataset to scale of 0 to 1/ normalize because do not want magnitude to get confused due to different ranges of magnitude"
   ]
  },
  {
   "cell_type": "code",
   "execution_count": 6,
   "id": "5b120936",
   "metadata": {},
   "outputs": [],
   "source": [
    "scaler.fit(adtrain)\n",
    "scaled_train = scaler.transform(adtrain)\n",
    "scaled_test = scaler.transform(adtest)"
   ]
  },
  {
   "cell_type": "code",
   "execution_count": 7,
   "id": "97006f29",
   "metadata": {},
   "outputs": [],
   "source": [
    "from keras.preprocessing.sequence import TimeseriesGenerator"
   ]
  },
  {
   "cell_type": "code",
   "execution_count": 8,
   "id": "b015c970",
   "metadata": {},
   "outputs": [],
   "source": [
    "#Using 7days/ 1 week as input to predict the next day"
   ]
  },
  {
   "cell_type": "code",
   "execution_count": 9,
   "id": "e7e88052",
   "metadata": {},
   "outputs": [],
   "source": [
    "#Define generator, feeding input as one week then predict next day (input 7 days for 8th day output)\n",
    "#feeding values to NN to create batches to predict next time range\n",
    "n_input = 7\n",
    "n_features = 1\n",
    "generator = TimeseriesGenerator(scaled_train, scaled_train, length=n_input, batch_size =1)"
   ]
  },
  {
   "cell_type": "code",
   "execution_count": 10,
   "id": "fd007b22",
   "metadata": {},
   "outputs": [
    {
     "name": "stdout",
     "output_type": "stream",
     "text": [
      "Given the Arrary: \n",
      "[0.25947187 0.25028703 0.26176808 0.25832377 0.25832377 0.25487945\n",
      " 0.24799082]\n",
      "Predict this y: \n",
      " [[0.24339839]]\n"
     ]
    }
   ],
   "source": [
    "X,y = generator[0]\n",
    "print(f'Given the Arrary: \\n{X.flatten()}')\n",
    "print(f'Predict this y: \\n {y}')"
   ]
  },
  {
   "cell_type": "code",
   "execution_count": 11,
   "id": "03679816",
   "metadata": {},
   "outputs": [
    {
     "data": {
      "text/plain": [
       "(1, 7, 1)"
      ]
     },
     "execution_count": 11,
     "metadata": {},
     "output_type": "execute_result"
    }
   ],
   "source": [
    "X.shape"
   ]
  },
  {
   "cell_type": "code",
   "execution_count": 13,
   "id": "35a1cd8f",
   "metadata": {},
   "outputs": [],
   "source": [
    "from keras.models import Sequential\n",
    "from keras.layers.core import Dense\n",
    "from keras.layers import LSTM"
   ]
  },
  {
   "cell_type": "code",
   "execution_count": 83,
   "id": "10b4e1c0",
   "metadata": {},
   "outputs": [],
   "source": [
    "# Define model\n",
    "model = Sequential()\n",
    "model.add(LSTM(100, activation='relu', input_shape=(n_input, n_features)))\n",
    "model.add(Dense(1))\n",
    "model.compile(optimizer='adam', loss = 'mse')"
   ]
  },
  {
   "cell_type": "code",
   "execution_count": 84,
   "id": "4ac66d47",
   "metadata": {},
   "outputs": [
    {
     "name": "stdout",
     "output_type": "stream",
     "text": [
      "Model: \"sequential_2\"\n",
      "_________________________________________________________________\n",
      " Layer (type)                Output Shape              Param #   \n",
      "=================================================================\n",
      " lstm_2 (LSTM)               (None, 100)               40800     \n",
      "                                                                 \n",
      " dense_2 (Dense)             (None, 1)                 101       \n",
      "                                                                 \n",
      "=================================================================\n",
      "Total params: 40,901\n",
      "Trainable params: 40,901\n",
      "Non-trainable params: 0\n",
      "_________________________________________________________________\n"
     ]
    }
   ],
   "source": [
    "model.summary()"
   ]
  },
  {
   "cell_type": "code",
   "execution_count": 86,
   "id": "244e6174",
   "metadata": {},
   "outputs": [],
   "source": [
    "# from tensorflow.keras.callbacks import EarlyStopping\n",
    "# early_stopping = EarlyStopping()"
   ]
  },
  {
   "cell_type": "code",
   "execution_count": 87,
   "id": "aa314880",
   "metadata": {},
   "outputs": [
    {
     "name": "stdout",
     "output_type": "stream",
     "text": [
      "Epoch 1/30\n",
      "613/613 [==============================] - 3s 3ms/step - loss: 0.0058\n",
      "Epoch 2/30\n",
      "613/613 [==============================] - 2s 3ms/step - loss: 0.0012\n",
      "Epoch 3/30\n",
      "613/613 [==============================] - 2s 3ms/step - loss: 0.0011\n",
      "Epoch 4/30\n",
      "613/613 [==============================] - 2s 3ms/step - loss: 6.0274e-04\n",
      "Epoch 5/30\n",
      "613/613 [==============================] - 2s 3ms/step - loss: 5.3698e-04\n",
      "Epoch 6/30\n",
      "613/613 [==============================] - 2s 3ms/step - loss: 4.1859e-04\n",
      "Epoch 7/30\n",
      "613/613 [==============================] - 2s 3ms/step - loss: 5.7606e-04\n",
      "Epoch 8/30\n",
      "613/613 [==============================] - 2s 3ms/step - loss: 3.6503e-04\n",
      "Epoch 9/30\n",
      "613/613 [==============================] - 2s 3ms/step - loss: 2.9974e-04\n",
      "Epoch 10/30\n",
      "613/613 [==============================] - 2s 3ms/step - loss: 3.7083e-04\n",
      "Epoch 11/30\n",
      "613/613 [==============================] - 2s 3ms/step - loss: 2.2025e-04\n",
      "Epoch 12/30\n",
      "613/613 [==============================] - 2s 3ms/step - loss: 3.4173e-04\n",
      "Epoch 13/30\n",
      "613/613 [==============================] - 2s 3ms/step - loss: 2.5730e-04\n",
      "Epoch 14/30\n",
      "613/613 [==============================] - 2s 3ms/step - loss: 2.2267e-04\n",
      "Epoch 15/30\n",
      "613/613 [==============================] - 2s 3ms/step - loss: 2.5874e-04\n",
      "Epoch 16/30\n",
      "613/613 [==============================] - 2s 3ms/step - loss: 1.7726e-04\n",
      "Epoch 17/30\n",
      "613/613 [==============================] - 2s 3ms/step - loss: 2.2159e-04\n",
      "Epoch 18/30\n",
      "613/613 [==============================] - 2s 3ms/step - loss: 1.9228e-04\n",
      "Epoch 19/30\n",
      "613/613 [==============================] - 2s 3ms/step - loss: 1.6325e-04\n",
      "Epoch 20/30\n",
      "613/613 [==============================] - 2s 3ms/step - loss: 1.6208e-04\n",
      "Epoch 21/30\n",
      "613/613 [==============================] - 2s 3ms/step - loss: 1.6455e-04\n",
      "Epoch 22/30\n",
      "613/613 [==============================] - 2s 3ms/step - loss: 1.6461e-04\n",
      "Epoch 23/30\n",
      "613/613 [==============================] - 2s 3ms/step - loss: 1.3050e-04\n",
      "Epoch 24/30\n",
      "613/613 [==============================] - 2s 3ms/step - loss: 1.3350e-04\n",
      "Epoch 25/30\n",
      "613/613 [==============================] - 2s 3ms/step - loss: 1.5413e-04\n",
      "Epoch 26/30\n",
      "613/613 [==============================] - 2s 3ms/step - loss: 1.4883e-04\n",
      "Epoch 27/30\n",
      "613/613 [==============================] - 2s 3ms/step - loss: 1.3167e-04\n",
      "Epoch 28/30\n",
      "613/613 [==============================] - 2s 3ms/step - loss: 1.2641e-04\n",
      "Epoch 29/30\n",
      "613/613 [==============================] - 2s 3ms/step - loss: 1.1192e-04\n",
      "Epoch 30/30\n",
      "613/613 [==============================] - 2s 3ms/step - loss: 1.4281e-04\n"
     ]
    },
    {
     "data": {
      "text/plain": [
       "<keras.callbacks.History at 0x196b9222800>"
      ]
     },
     "execution_count": 87,
     "metadata": {},
     "output_type": "execute_result"
    }
   ],
   "source": [
    "#fit model\n",
    "model.fit(generator, epochs=30)\n",
    "\n",
    "# es = EarlyStopping(monitor='val_loss', mode='min', verbose=1)\n",
    "# model.fit(generator, epochs=30, callbacks=[early_stopping], )"
   ]
  },
  {
   "cell_type": "code",
   "execution_count": 88,
   "id": "58d5a2a0",
   "metadata": {},
   "outputs": [],
   "source": [
    "import matplotlib.pyplot as plt"
   ]
  },
  {
   "cell_type": "code",
   "execution_count": 89,
   "id": "aa1f76bf",
   "metadata": {
    "scrolled": true
   },
   "outputs": [
    {
     "data": {
      "text/plain": [
       "[<matplotlib.lines.Line2D at 0x196bbdb41c0>]"
      ]
     },
     "execution_count": 89,
     "metadata": {},
     "output_type": "execute_result"
    },
    {
     "data": {
      "image/png": "[encoded data removed]",
      "text/plain": [
       "<Figure size 432x288 with 1 Axes>"
      ]
     },
     "metadata": {
      "needs_background": "light"
     },
     "output_type": "display_data"
    }
   ],
   "source": [
    "#plot loss to see when is good to stop epochs\n",
    "loss_per_epoch = model.history.history['loss']\n",
    "plt.plot(range(len(loss_per_epoch)), loss_per_epoch)"
   ]
  },
  {
   "cell_type": "code",
   "execution_count": 90,
   "id": "09180952",
   "metadata": {},
   "outputs": [
    {
     "data": {
      "text/plain": [
       "655"
      ]
     },
     "execution_count": 90,
     "metadata": {},
     "output_type": "execute_result"
    }
   ],
   "source": [
    "# len(adtrain)#620\n",
    "# len(adtest)# 35\n",
    "len(adultcrit)# 655"
   ]
  },
  {
   "cell_type": "code",
   "execution_count": 91,
   "id": "33f46e41",
   "metadata": {},
   "outputs": [],
   "source": [
    "#formatting input so that using the last 30 of train to start prediction on first day of test set which is the last 30 days\n",
    "# 30 doesn't work take last 7 days of train to make prediction on first day of test set\n",
    "last_train_batch = scaled_train[-7:]"
   ]
  },
  {
   "cell_type": "code",
   "execution_count": 92,
   "id": "933308e2",
   "metadata": {},
   "outputs": [],
   "source": [
    "last_train_batch = last_train_batch.reshape((1, n_input, n_features))"
   ]
  },
  {
   "cell_type": "code",
   "execution_count": 93,
   "id": "4499a684",
   "metadata": {},
   "outputs": [
    {
     "data": {
      "text/plain": [
       "array([[0.498485]], dtype=float32)"
      ]
     },
     "execution_count": 93,
     "metadata": {},
     "output_type": "execute_result"
    }
   ],
   "source": [
    "model.predict(last_train_batch) # check first prediction of test vs actual"
   ]
  },
  {
   "cell_type": "code",
   "execution_count": 94,
   "id": "d9ae15fa",
   "metadata": {},
   "outputs": [
    {
     "data": {
      "text/plain": [
       "array([0.51664753])"
      ]
     },
     "execution_count": 94,
     "metadata": {},
     "output_type": "execute_result"
    }
   ],
   "source": [
    "scaled_test[0]"
   ]
  },
  {
   "cell_type": "code",
   "execution_count": 95,
   "id": "68a05c77",
   "metadata": {},
   "outputs": [],
   "source": [
    "test_predictions = []\n",
    "\n",
    "first_eval_batch = scaled_train[-n_input:]\n",
    "current_batch = first_eval_batch.reshape((1, n_input, n_features))\n",
    "\n",
    "for i in range(len(adtest)):\n",
    "    \n",
    "    # get the prediction value for the first batch\n",
    "    current_pred = model.predict(current_batch)[0]\n",
    "    \n",
    "    # append the prediction into the array\n",
    "    test_predictions.append(current_pred) \n",
    "    \n",
    "    # use the prediction to update the batch and remove the first value\n",
    "    current_batch = np.append(current_batch[:,1:,:],[[current_pred]],axis=1)"
   ]
  },
  {
   "cell_type": "code",
   "execution_count": 96,
   "id": "b56b944f",
   "metadata": {},
   "outputs": [],
   "source": [
    "true_predictions = scaler.inverse_transform(test_predictions)"
   ]
  },
  {
   "cell_type": "code",
   "execution_count": 97,
   "id": "d08a4272",
   "metadata": {},
   "outputs": [
    {
     "name": "stderr",
     "output_type": "stream",
     "text": [
      "C:\\Users\\Jneny\\AppData\\Local\\Temp\\ipykernel_3700\\426780066.py:1: SettingWithCopyWarning: \n",
      "A value is trying to be set on a copy of a slice from a DataFrame.\n",
      "Try using .loc[row_indexer,col_indexer] = value instead\n",
      "\n",
      "See the caveats in the documentation: https://pandas.pydata.org/pandas-docs/stable/user_guide/indexing.html#returning-a-view-versus-a-copy\n",
      "  adtest['Predictions'] = true_predictions\n"
     ]
    }
   ],
   "source": [
    "adtest['Predictions'] = true_predictions"
   ]
  },
  {
   "cell_type": "code",
   "execution_count": 107,
   "id": "71c1157a",
   "metadata": {
    "scrolled": true
   },
   "outputs": [
    {
     "data": {
      "text/plain": [
       "<AxesSubplot:xlabel='date'>"
      ]
     },
     "execution_count": 107,
     "metadata": {},
     "output_type": "execute_result"
    },
    {
     "data": {
      "image/png": "[encoded data removed]",
      "text/plain": [
       "<Figure size 1440x360 with 1 Axes>"
      ]
     },
     "metadata": {
      "needs_background": "light"
     },
     "output_type": "display_data"
    }
   ],
   "source": [
    "adtest.plot(figsize=(20,5))"
   ]
  },
  {
   "cell_type": "code",
   "execution_count": 104,
   "id": "d7ccc83e",
   "metadata": {},
   "outputs": [
    {
     "name": "stdout",
     "output_type": "stream",
     "text": [
      "95.1131988172453\n"
     ]
    }
   ],
   "source": [
    "# calculate root mean squared error\n",
    "from sklearn.metrics import mean_squared_error\n",
    "import math\n",
    "from math import sqrt\n",
    "rmse= math.sqrt(mean_squared_error(adtest['adult_icu_crci_patients'], adtest['Predictions']))\n",
    "print(rmse)"
   ]
  },
  {
   "cell_type": "code",
   "execution_count": 100,
   "id": "b7df3773",
   "metadata": {},
   "outputs": [
    {
     "data": {
      "text/plain": [
       "14.12117661608703"
      ]
     },
     "execution_count": 100,
     "metadata": {},
     "output_type": "execute_result"
    }
   ],
   "source": [
    "# calculate mean absolute percentage error MAPE\n",
    "def mape(actual, pred): \n",
    "    actual, pred = np.array(actual), np.array(pred)\n",
    "    return np.mean(np.abs((actual - pred) / actual)) * 100\n",
    "mape(adtest['adult_icu_crci_patients'], adtest['Predictions'])"
   ]
  },
  {
   "cell_type": "code",
   "execution_count": null,
   "id": "be87e970",
   "metadata": {},
   "outputs": [],
   "source": []
  },
  {
   "cell_type": "code",
   "execution_count": null,
   "id": "9f952c2a",
   "metadata": {},
   "outputs": [],
   "source": []
  }
 ],
 "metadata": {
  "kernelspec": {
   "display_name": "Python 3 (ipykernel)",
   "language": "python",
   "name": "python3"
  },
  "language_info": {
   "codemirror_mode": {
    "name": "ipython",
    "version": 3
   },
   "file_extension": ".py",
   "mimetype": "text/x-python",
   "name": "python",
   "nbconvert_exporter": "python",
   "pygments_lexer": "ipython3",
   "version": "3.10.3"
  }
 },
 "nbformat": 4,
 "nbformat_minor": 5
}
