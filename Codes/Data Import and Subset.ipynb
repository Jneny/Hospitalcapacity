{
 "cells": [
  {
   "cell_type": "code",
   "execution_count": 1,
   "metadata": {},
   "outputs": [],
   "source": [
    "import pandas as pd\n",
    "from pandas import read_csv"
   ]
  },
  {
   "cell_type": "markdown",
   "metadata": {},
   "source": [
    "Import Data, clarify data is recorded daily, specify dates as the index"
   ]
  },
  {
   "cell_type": "code",
   "execution_count": 2,
   "metadata": {},
   "outputs": [],
   "source": [
    "url = 'https://raw.githubusercontent.com/Jneny/Hospitalcapacity/main/Data/icu_beds.csv'\n",
    "data = read_csv(url, header=0, parse_dates=[0], index_col=0)"
   ]
  },
  {
   "cell_type": "markdown",
   "metadata": {},
   "source": [
    "Set frequency of data collection to daily"
   ]
  },
  {
   "cell_type": "code",
   "execution_count": 3,
   "metadata": {},
   "outputs": [],
   "source": [
    "data = data.asfreq('d')"
   ]
  },
  {
   "cell_type": "markdown",
   "metadata": {},
   "source": [
    "Subset data to variable of interest"
   ]
  },
  {
   "cell_type": "code",
   "execution_count": 4,
   "metadata": {},
   "outputs": [],
   "source": [
    "adultcrit = pd.DataFrame(data, columns=['adult_icu_crci_patients'])"
   ]
  },
  {
   "cell_type": "markdown",
   "metadata": {},
   "source": [
    "Export Subsetted data to csv"
   ]
  },
  {
   "cell_type": "code",
   "execution_count": 5,
   "metadata": {},
   "outputs": [],
   "source": [
    "adultcrit.to_csv(r'C:\\Users\\Jneny\\Desktop\\820\\datasets\\AdultCritICU.csv')"
   ]
  },
  {
   "cell_type": "markdown",
   "metadata": {},
   "source": [
    "View data and adultcrit subset"
   ]
  },
  {
   "cell_type": "code",
   "execution_count": 11,
   "metadata": {},
   "outputs": [
    {
     "data": {
      "text/html": [
       "<div>\n",
       "<style scoped>\n",
       "    .dataframe tbody tr th:only-of-type {\n",
       "        vertical-align: middle;\n",
       "    }\n",
       "\n",
       "    .dataframe tbody tr th {\n",
       "        vertical-align: top;\n",
       "    }\n",
       "\n",
       "    .dataframe thead th {\n",
       "        text-align: right;\n",
       "    }\n",
       "</style>\n",
       "<table border=\"1\" class=\"dataframe\">\n",
       "  <thead>\n",
       "    <tr style=\"text-align: right;\">\n",
       "      <th></th>\n",
       "      <th>adult_icu_crci_patients</th>\n",
       "    </tr>\n",
       "    <tr>\n",
       "      <th>date</th>\n",
       "      <th></th>\n",
       "    </tr>\n",
       "  </thead>\n",
       "  <tbody>\n",
       "    <tr>\n",
       "      <th>2020-05-01</th>\n",
       "      <td>244</td>\n",
       "    </tr>\n",
       "    <tr>\n",
       "      <th>2020-05-02</th>\n",
       "      <td>236</td>\n",
       "    </tr>\n",
       "    <tr>\n",
       "      <th>2020-05-03</th>\n",
       "      <td>246</td>\n",
       "    </tr>\n",
       "    <tr>\n",
       "      <th>2020-05-04</th>\n",
       "      <td>243</td>\n",
       "    </tr>\n",
       "    <tr>\n",
       "      <th>2020-05-05</th>\n",
       "      <td>243</td>\n",
       "    </tr>\n",
       "    <tr>\n",
       "      <th>...</th>\n",
       "      <td>...</td>\n",
       "    </tr>\n",
       "    <tr>\n",
       "      <th>2022-02-10</th>\n",
       "      <td>442</td>\n",
       "    </tr>\n",
       "    <tr>\n",
       "      <th>2022-02-11</th>\n",
       "      <td>429</td>\n",
       "    </tr>\n",
       "    <tr>\n",
       "      <th>2022-02-12</th>\n",
       "      <td>407</td>\n",
       "    </tr>\n",
       "    <tr>\n",
       "      <th>2022-02-13</th>\n",
       "      <td>395</td>\n",
       "    </tr>\n",
       "    <tr>\n",
       "      <th>2022-02-14</th>\n",
       "      <td>386</td>\n",
       "    </tr>\n",
       "  </tbody>\n",
       "</table>\n",
       "<p>655 rows × 1 columns</p>\n",
       "</div>"
      ],
      "text/plain": [
       "            adult_icu_crci_patients\n",
       "date                               \n",
       "2020-05-01                      244\n",
       "2020-05-02                      236\n",
       "2020-05-03                      246\n",
       "2020-05-04                      243\n",
       "2020-05-05                      243\n",
       "...                             ...\n",
       "2022-02-10                      442\n",
       "2022-02-11                      429\n",
       "2022-02-12                      407\n",
       "2022-02-13                      395\n",
       "2022-02-14                      386\n",
       "\n",
       "[655 rows x 1 columns]"
      ]
     },
     "execution_count": 11,
     "metadata": {},
     "output_type": "execute_result"
    }
   ],
   "source": [
    "adultcrit"
   ]
  },
  {
   "cell_type": "code",
   "execution_count": 9,
   "metadata": {},
   "outputs": [
    {
     "name": "stdout",
     "output_type": "stream",
     "text": [
      "            adult_icu_crci_patients  adult_icu_non_crci_patients  \\\n",
      "date                                                               \n",
      "2020-05-01                      244                         1154   \n",
      "2020-05-02                      236                         1210   \n",
      "2020-05-03                      246                         1211   \n",
      "2020-05-04                      243                         1197   \n",
      "2020-05-05                      243                         1252   \n",
      "...                             ...                          ...   \n",
      "2022-02-10                      442                         1367   \n",
      "2022-02-11                      429                         1376   \n",
      "2022-02-12                      407                         1385   \n",
      "2022-02-13                      395                         1376   \n",
      "2022-02-14                      386                         1369   \n",
      "\n",
      "            available_adult_icu_beds  total_adult_icu_patients  \\\n",
      "date                                                             \n",
      "2020-05-01                       614                      1398   \n",
      "2020-05-02                       566                      1446   \n",
      "2020-05-03                       555                      1457   \n",
      "2020-05-04                       572                      1440   \n",
      "2020-05-05                       517                      1495   \n",
      "...                              ...                       ...   \n",
      "2022-02-10                       534                      1809   \n",
      "2022-02-11                       538                      1805   \n",
      "2022-02-12                       551                      1792   \n",
      "2022-02-13                       572                      1771   \n",
      "2022-02-14                       588                      1755   \n",
      "\n",
      "            total_adult_icu_beds  ped_icu_crci_patients  \\\n",
      "date                                                      \n",
      "2020-05-01                  2012                      0   \n",
      "2020-05-02                  2012                      0   \n",
      "2020-05-03                  2012                      0   \n",
      "2020-05-04                  2012                      0   \n",
      "2020-05-05                  2012                      0   \n",
      "...                          ...                    ...   \n",
      "2022-02-10                  2343                      3   \n",
      "2022-02-11                  2343                      6   \n",
      "2022-02-12                  2343                      7   \n",
      "2022-02-13                  2343                      7   \n",
      "2022-02-14                  2343                      8   \n",
      "\n",
      "            ped_icu_non_crci_patients  available_ped_icu_beds  \\\n",
      "date                                                            \n",
      "2020-05-01                         51                      38   \n",
      "2020-05-02                         56                      33   \n",
      "2020-05-03                         54                      35   \n",
      "2020-05-04                         56                      33   \n",
      "2020-05-05                         59                      30   \n",
      "...                               ...                     ...   \n",
      "2022-02-10                         55                      47   \n",
      "2022-02-11                         52                      47   \n",
      "2022-02-12                         48                      50   \n",
      "2022-02-13                         47                      51   \n",
      "2022-02-14                         45                      52   \n",
      "\n",
      "            total_ped_icu_patients  total_ped_icu_beds  \n",
      "date                                                    \n",
      "2020-05-01                      51                  89  \n",
      "2020-05-02                      56                  89  \n",
      "2020-05-03                      54                  89  \n",
      "2020-05-04                      56                  89  \n",
      "2020-05-05                      59                  89  \n",
      "...                            ...                 ...  \n",
      "2022-02-10                      58                 105  \n",
      "2022-02-11                      58                 105  \n",
      "2022-02-12                      55                 105  \n",
      "2022-02-13                      54                 105  \n",
      "2022-02-14                      53                 105  \n",
      "\n",
      "[655 rows x 10 columns]\n"
     ]
    }
   ],
   "source": [
    "data"
   ]
  }
 ],
 "metadata": {
  "kernelspec": {
   "display_name": "Python 3 (ipykernel)",
   "language": "python",
   "name": "python3"
  },
  "language_info": {
   "codemirror_mode": {
    "name": "ipython",
    "version": 3
   },
   "file_extension": ".py",
   "mimetype": "text/x-python",
   "name": "python",
   "nbconvert_exporter": "python",
   "pygments_lexer": "ipython3",
   "version": "3.10.2"
  }
 },
 "nbformat": 4,
 "nbformat_minor": 2
}
